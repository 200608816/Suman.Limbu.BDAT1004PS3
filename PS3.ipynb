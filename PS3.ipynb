{
 "cells": [
  {
   "cell_type": "markdown",
   "id": "efd1dbba-1f4d-48f8-869e-0ca8c158c111",
   "metadata": {},
   "source": [
    "QUESTION 1:Introduction:\n",
    "Special thanks to: https://github.com/justmarkham for sharing the dataset and\n",
    "materials.\n",
    "Occupations\n",
    "Step 1. Import the necessary libraries\n",
    "Step 2. Import the dataset from this address.\n",
    "Step 3. Assign it to a variable called users\n",
    "Step 4. Discover what is the mean age per occupation\n",
    "Step 5. Discover the Male ratio per occupation and sort it from the most to the least\n",
    "Step 6. For each occupation, calculate the minimum and maximum ages\n",
    "Step 7. For each combination of occupation and sex, calculate the mean age\n",
    "Step 8. For each occupation present the percentage of women and men"
   ]
  },
  {
   "cell_type": "code",
   "execution_count": 311,
   "id": "2dcd7a2b-aebd-4d65-b2f0-ef08af2348b3",
   "metadata": {},
   "outputs": [],
   "source": [
    "import pandas as pd\n",
    "import numpy as np\n",
    "%matplotlib inline\n",
    "import matplotlib.pyplot as plt"
   ]
  },
  {
   "cell_type": "code",
   "execution_count": 5,
   "id": "15ad30d3-c740-48bb-8d80-7221e694209f",
   "metadata": {},
   "outputs": [],
   "source": [
    "url = \"https://raw.githubusercontent.com/justmarkham/DAT8/master/data/u.user\""
   ]
  },
  {
   "cell_type": "code",
   "execution_count": 7,
   "id": "8e71d79e-44f1-4bd2-b7fc-1360f4b5e532",
   "metadata": {},
   "outputs": [],
   "source": [
    "users = pd.read_csv(url, sep='|')"
   ]
  },
  {
   "cell_type": "code",
   "execution_count": 9,
   "id": "8ff2b7f9-3816-4314-9081-a079ed1faf6c",
   "metadata": {},
   "outputs": [
    {
     "data": {
      "text/html": [
       "<div>\n",
       "<style scoped>\n",
       "    .dataframe tbody tr th:only-of-type {\n",
       "        vertical-align: middle;\n",
       "    }\n",
       "\n",
       "    .dataframe tbody tr th {\n",
       "        vertical-align: top;\n",
       "    }\n",
       "\n",
       "    .dataframe thead th {\n",
       "        text-align: right;\n",
       "    }\n",
       "</style>\n",
       "<table border=\"1\" class=\"dataframe\">\n",
       "  <thead>\n",
       "    <tr style=\"text-align: right;\">\n",
       "      <th></th>\n",
       "      <th>user_id</th>\n",
       "      <th>age</th>\n",
       "      <th>gender</th>\n",
       "      <th>occupation</th>\n",
       "      <th>zip_code</th>\n",
       "    </tr>\n",
       "  </thead>\n",
       "  <tbody>\n",
       "    <tr>\n",
       "      <th>0</th>\n",
       "      <td>1</td>\n",
       "      <td>24</td>\n",
       "      <td>M</td>\n",
       "      <td>technician</td>\n",
       "      <td>85711</td>\n",
       "    </tr>\n",
       "    <tr>\n",
       "      <th>1</th>\n",
       "      <td>2</td>\n",
       "      <td>53</td>\n",
       "      <td>F</td>\n",
       "      <td>other</td>\n",
       "      <td>94043</td>\n",
       "    </tr>\n",
       "    <tr>\n",
       "      <th>2</th>\n",
       "      <td>3</td>\n",
       "      <td>23</td>\n",
       "      <td>M</td>\n",
       "      <td>writer</td>\n",
       "      <td>32067</td>\n",
       "    </tr>\n",
       "    <tr>\n",
       "      <th>3</th>\n",
       "      <td>4</td>\n",
       "      <td>24</td>\n",
       "      <td>M</td>\n",
       "      <td>technician</td>\n",
       "      <td>43537</td>\n",
       "    </tr>\n",
       "    <tr>\n",
       "      <th>4</th>\n",
       "      <td>5</td>\n",
       "      <td>33</td>\n",
       "      <td>F</td>\n",
       "      <td>other</td>\n",
       "      <td>15213</td>\n",
       "    </tr>\n",
       "  </tbody>\n",
       "</table>\n",
       "</div>"
      ],
      "text/plain": [
       "   user_id  age gender  occupation zip_code\n",
       "0        1   24      M  technician    85711\n",
       "1        2   53      F       other    94043\n",
       "2        3   23      M      writer    32067\n",
       "3        4   24      M  technician    43537\n",
       "4        5   33      F       other    15213"
      ]
     },
     "execution_count": 9,
     "metadata": {},
     "output_type": "execute_result"
    }
   ],
   "source": [
    "users.head()"
   ]
  },
  {
   "cell_type": "code",
   "execution_count": 11,
   "id": "eef7dd18-30a1-45cf-844f-f80f21bd99a9",
   "metadata": {},
   "outputs": [],
   "source": [
    "mean_age = users.groupby('occupation')['age'].mean()"
   ]
  },
  {
   "cell_type": "code",
   "execution_count": 13,
   "id": "5dc79c1d-5c37-4bb8-ba6b-fced1ecc782f",
   "metadata": {},
   "outputs": [
    {
     "data": {
      "text/plain": [
       "occupation\n",
       "administrator    38.746835\n",
       "artist           31.392857\n",
       "doctor           43.571429\n",
       "educator         42.010526\n",
       "engineer         36.388060\n",
       "entertainment    29.222222\n",
       "executive        38.718750\n",
       "healthcare       41.562500\n",
       "homemaker        32.571429\n",
       "lawyer           36.750000\n",
       "librarian        40.000000\n",
       "marketing        37.615385\n",
       "none             26.555556\n",
       "other            34.523810\n",
       "programmer       33.121212\n",
       "retired          63.071429\n",
       "salesman         35.666667\n",
       "scientist        35.548387\n",
       "student          22.081633\n",
       "technician       33.148148\n",
       "writer           36.311111\n",
       "Name: age, dtype: float64"
      ]
     },
     "execution_count": 13,
     "metadata": {},
     "output_type": "execute_result"
    }
   ],
   "source": [
    "mean_age"
   ]
  },
  {
   "cell_type": "code",
   "execution_count": 37,
   "id": "8257b797-d2be-4582-a0d2-18b49bcec6dd",
   "metadata": {},
   "outputs": [],
   "source": [
    "male_ratio = users.groupby('occupation')['gender'].apply(lambda x: (x == 'M').mean());\n",
    "male_ratio = male_ratio.sort_values(ascending=False);\n",
    "male_ratio;"
   ]
  },
  {
   "cell_type": "code",
   "execution_count": 21,
   "id": "91c4a28e-477b-4c22-8137-9040609df5bd",
   "metadata": {},
   "outputs": [],
   "source": [
    "min_max_age = users.groupby('occupation')['age'].agg(['min', 'max'])"
   ]
  },
  {
   "cell_type": "code",
   "execution_count": 43,
   "id": "b44caf37-24b2-4ae3-a19f-239bebe30a74",
   "metadata": {},
   "outputs": [
    {
     "name": "stdout",
     "output_type": "stream",
     "text": [
      "The Minimum and Maximum Ages Per Occupation are:\n",
      "               min  max\n",
      "occupation             \n",
      "administrator   21   70\n",
      "artist          19   48\n",
      "doctor          28   64\n",
      "educator        23   63\n",
      "engineer        22   70\n",
      "entertainment   15   50\n",
      "executive       22   69\n",
      "healthcare      22   62\n",
      "homemaker       20   50\n",
      "lawyer          21   53\n",
      "librarian       23   69\n",
      "marketing       24   55\n",
      "none            11   55\n",
      "other           13   64\n",
      "programmer      20   63\n",
      "retired         51   73\n",
      "salesman        18   66\n",
      "scientist       23   55\n",
      "student          7   42\n",
      "technician      21   55\n",
      "writer          18   60\n"
     ]
    }
   ],
   "source": [
    "print(\"The Minimum and Maximum Ages Per Occupation are:\") ;\n",
    "print(min_max_age)"
   ]
  },
  {
   "cell_type": "code",
   "execution_count": 29,
   "id": "7e6a7cd7-d23d-4c28-9acf-0e59dfe06898",
   "metadata": {},
   "outputs": [],
   "source": [
    "mean_age_gender = users.groupby(['occupation', 'gender'])['age'].mean()"
   ]
  },
  {
   "cell_type": "code",
   "execution_count": 41,
   "id": "27e57a42-6dd6-4e31-bd08-2a9d33ec0f17",
   "metadata": {},
   "outputs": [
    {
     "name": "stdout",
     "output_type": "stream",
     "text": [
      "Mean Age Per Occupation and Gender are:\n",
      "occupation     gender\n",
      "administrator  F         40.638889\n",
      "               M         37.162791\n",
      "artist         F         30.307692\n",
      "               M         32.333333\n",
      "doctor         M         43.571429\n",
      "educator       F         39.115385\n",
      "               M         43.101449\n",
      "engineer       F         29.500000\n",
      "               M         36.600000\n",
      "entertainment  F         31.000000\n",
      "               M         29.000000\n",
      "executive      F         44.000000\n",
      "               M         38.172414\n",
      "healthcare     F         39.818182\n",
      "               M         45.400000\n",
      "homemaker      F         34.166667\n",
      "               M         23.000000\n",
      "lawyer         F         39.500000\n",
      "               M         36.200000\n",
      "librarian      F         40.000000\n",
      "               M         40.000000\n",
      "marketing      F         37.200000\n",
      "               M         37.875000\n",
      "none           F         36.500000\n",
      "               M         18.600000\n",
      "other          F         35.472222\n",
      "               M         34.028986\n",
      "programmer     F         32.166667\n",
      "               M         33.216667\n",
      "retired        F         70.000000\n",
      "               M         62.538462\n",
      "salesman       F         27.000000\n",
      "               M         38.555556\n",
      "scientist      F         28.333333\n",
      "               M         36.321429\n",
      "student        F         20.750000\n",
      "               M         22.669118\n",
      "technician     F         38.000000\n",
      "               M         32.961538\n",
      "writer         F         37.631579\n",
      "               M         35.346154\n",
      "Name: age, dtype: float64\n"
     ]
    }
   ],
   "source": [
    "print(\"Mean Age Per Occupation and Gender are:\");\n",
    "print(mean_age_gender)"
   ]
  },
  {
   "cell_type": "code",
   "execution_count": 39,
   "id": "ca0a8357-1fb4-4aa2-867b-57cbf352f28b",
   "metadata": {},
   "outputs": [
    {
     "name": "stdout",
     "output_type": "stream",
     "text": [
      "The Percentage of Women and Men Per Occupation are:\n",
      "                 Female%       Male%\n",
      "occupation                          \n",
      "administrator  45.569620   54.430380\n",
      "artist         46.428571   53.571429\n",
      "doctor               NaN  100.000000\n",
      "educator       27.368421   72.631579\n",
      "engineer        2.985075   97.014925\n",
      "entertainment  11.111111   88.888889\n",
      "executive       9.375000   90.625000\n",
      "healthcare     68.750000   31.250000\n",
      "homemaker      85.714286   14.285714\n",
      "lawyer         16.666667   83.333333\n",
      "librarian      56.862745   43.137255\n",
      "marketing      38.461538   61.538462\n",
      "none           44.444444   55.555556\n",
      "other          34.285714   65.714286\n",
      "programmer      9.090909   90.909091\n",
      "retired         7.142857   92.857143\n",
      "salesman       25.000000   75.000000\n",
      "scientist       9.677419   90.322581\n",
      "student        30.612245   69.387755\n",
      "technician      3.703704   96.296296\n",
      "writer         42.222222   57.777778\n"
     ]
    }
   ],
   "source": [
    "gender_counts = users.groupby(['occupation', 'gender']).size().unstack();\n",
    "gender_percentage = gender_counts.div(gender_counts.sum(axis=1), axis=0) * 100;\n",
    "gender_percentage.columns = ['Female%', 'Male%'];\n",
    "print(\"The Percentage of Women and Men Per Occupation are:\");\n",
    "print(gender_percentage);"
   ]
  },
  {
   "cell_type": "code",
   "execution_count": null,
   "id": "ad5071d0-e0e9-45cb-b890-e9a6cae837a8",
   "metadata": {},
   "outputs": [],
   "source": []
  },
  {
   "cell_type": "code",
   "execution_count": null,
   "id": "1696808a-ee56-46d1-a0fb-514ffaf29c4d",
   "metadata": {},
   "outputs": [],
   "source": []
  },
  {
   "cell_type": "code",
   "execution_count": null,
   "id": "5da5517f-60e0-46bf-a911-0704b73bdb12",
   "metadata": {},
   "outputs": [],
   "source": []
  },
  {
   "cell_type": "markdown",
   "id": "8e327a39-05cc-484b-86a6-7d8b4963356a",
   "metadata": {},
   "source": [
    "Q2. Euro Teams\n",
    "Step 1. Import the necessary libraries\n",
    "Step 2. Import the dataset from this address\n",
    "Step 3. Assign it to a variable called euro12\n",
    "Step 4. Select only the Goal column\n",
    "Step 5. How many team participated in the Euro2012?\n",
    "Step 6. What is the number of columns in the dataset?\n",
    "Step 7. View only the columns Team, Yellow Cards and Red Cards and assign them\n",
    "to a dataframe called discipline\n",
    "Step 8. Sort the teams by Red Cards, then to Yellow Cards\n",
    "Step 9. Calculate the mean Yellow Cards given per Team\n",
    "Step 10. Filter teams that scored more than 6 goalsStep 11. Select the teams that start\n",
    "with G\n",
    "Step 12. Select the first 7 columns\n",
    "Step 13. Select all columns except the last 3\n",
    "Step 14. Present only the Shooting Accuracy from England, Italy and Russia"
   ]
  },
  {
   "cell_type": "code",
   "execution_count": 45,
   "id": "e2e46303-d1be-4716-944f-d198b5ba5f21",
   "metadata": {},
   "outputs": [
    {
     "data": {
      "text/html": [
       "<div>\n",
       "<style scoped>\n",
       "    .dataframe tbody tr th:only-of-type {\n",
       "        vertical-align: middle;\n",
       "    }\n",
       "\n",
       "    .dataframe tbody tr th {\n",
       "        vertical-align: top;\n",
       "    }\n",
       "\n",
       "    .dataframe thead th {\n",
       "        text-align: right;\n",
       "    }\n",
       "</style>\n",
       "<table border=\"1\" class=\"dataframe\">\n",
       "  <thead>\n",
       "    <tr style=\"text-align: right;\">\n",
       "      <th></th>\n",
       "      <th>Team</th>\n",
       "      <th>Goals</th>\n",
       "      <th>Shots on target</th>\n",
       "      <th>Shots off target</th>\n",
       "      <th>Shooting Accuracy</th>\n",
       "      <th>% Goals-to-shots</th>\n",
       "      <th>Total shots (inc. Blocked)</th>\n",
       "      <th>Hit Woodwork</th>\n",
       "      <th>Penalty goals</th>\n",
       "      <th>Penalties not scored</th>\n",
       "      <th>...</th>\n",
       "      <th>Saves made</th>\n",
       "      <th>Saves-to-shots ratio</th>\n",
       "      <th>Fouls Won</th>\n",
       "      <th>Fouls Conceded</th>\n",
       "      <th>Offsides</th>\n",
       "      <th>Yellow Cards</th>\n",
       "      <th>Red Cards</th>\n",
       "      <th>Subs on</th>\n",
       "      <th>Subs off</th>\n",
       "      <th>Players Used</th>\n",
       "    </tr>\n",
       "  </thead>\n",
       "  <tbody>\n",
       "    <tr>\n",
       "      <th>0</th>\n",
       "      <td>Croatia</td>\n",
       "      <td>4</td>\n",
       "      <td>13</td>\n",
       "      <td>12</td>\n",
       "      <td>51.9%</td>\n",
       "      <td>16.0%</td>\n",
       "      <td>32</td>\n",
       "      <td>0</td>\n",
       "      <td>0</td>\n",
       "      <td>0</td>\n",
       "      <td>...</td>\n",
       "      <td>13</td>\n",
       "      <td>81.3%</td>\n",
       "      <td>41</td>\n",
       "      <td>62</td>\n",
       "      <td>2</td>\n",
       "      <td>9</td>\n",
       "      <td>0</td>\n",
       "      <td>9</td>\n",
       "      <td>9</td>\n",
       "      <td>16</td>\n",
       "    </tr>\n",
       "    <tr>\n",
       "      <th>1</th>\n",
       "      <td>Czech Republic</td>\n",
       "      <td>4</td>\n",
       "      <td>13</td>\n",
       "      <td>18</td>\n",
       "      <td>41.9%</td>\n",
       "      <td>12.9%</td>\n",
       "      <td>39</td>\n",
       "      <td>0</td>\n",
       "      <td>0</td>\n",
       "      <td>0</td>\n",
       "      <td>...</td>\n",
       "      <td>9</td>\n",
       "      <td>60.1%</td>\n",
       "      <td>53</td>\n",
       "      <td>73</td>\n",
       "      <td>8</td>\n",
       "      <td>7</td>\n",
       "      <td>0</td>\n",
       "      <td>11</td>\n",
       "      <td>11</td>\n",
       "      <td>19</td>\n",
       "    </tr>\n",
       "    <tr>\n",
       "      <th>2</th>\n",
       "      <td>Denmark</td>\n",
       "      <td>4</td>\n",
       "      <td>10</td>\n",
       "      <td>10</td>\n",
       "      <td>50.0%</td>\n",
       "      <td>20.0%</td>\n",
       "      <td>27</td>\n",
       "      <td>1</td>\n",
       "      <td>0</td>\n",
       "      <td>0</td>\n",
       "      <td>...</td>\n",
       "      <td>10</td>\n",
       "      <td>66.7%</td>\n",
       "      <td>25</td>\n",
       "      <td>38</td>\n",
       "      <td>8</td>\n",
       "      <td>4</td>\n",
       "      <td>0</td>\n",
       "      <td>7</td>\n",
       "      <td>7</td>\n",
       "      <td>15</td>\n",
       "    </tr>\n",
       "    <tr>\n",
       "      <th>3</th>\n",
       "      <td>England</td>\n",
       "      <td>5</td>\n",
       "      <td>11</td>\n",
       "      <td>18</td>\n",
       "      <td>50.0%</td>\n",
       "      <td>17.2%</td>\n",
       "      <td>40</td>\n",
       "      <td>0</td>\n",
       "      <td>0</td>\n",
       "      <td>0</td>\n",
       "      <td>...</td>\n",
       "      <td>22</td>\n",
       "      <td>88.1%</td>\n",
       "      <td>43</td>\n",
       "      <td>45</td>\n",
       "      <td>6</td>\n",
       "      <td>5</td>\n",
       "      <td>0</td>\n",
       "      <td>11</td>\n",
       "      <td>11</td>\n",
       "      <td>16</td>\n",
       "    </tr>\n",
       "    <tr>\n",
       "      <th>4</th>\n",
       "      <td>France</td>\n",
       "      <td>3</td>\n",
       "      <td>22</td>\n",
       "      <td>24</td>\n",
       "      <td>37.9%</td>\n",
       "      <td>6.5%</td>\n",
       "      <td>65</td>\n",
       "      <td>1</td>\n",
       "      <td>0</td>\n",
       "      <td>0</td>\n",
       "      <td>...</td>\n",
       "      <td>6</td>\n",
       "      <td>54.6%</td>\n",
       "      <td>36</td>\n",
       "      <td>51</td>\n",
       "      <td>5</td>\n",
       "      <td>6</td>\n",
       "      <td>0</td>\n",
       "      <td>11</td>\n",
       "      <td>11</td>\n",
       "      <td>19</td>\n",
       "    </tr>\n",
       "  </tbody>\n",
       "</table>\n",
       "<p>5 rows × 35 columns</p>\n",
       "</div>"
      ],
      "text/plain": [
       "             Team  Goals  Shots on target  Shots off target Shooting Accuracy  \\\n",
       "0         Croatia      4               13                12             51.9%   \n",
       "1  Czech Republic      4               13                18             41.9%   \n",
       "2         Denmark      4               10                10             50.0%   \n",
       "3         England      5               11                18             50.0%   \n",
       "4          France      3               22                24             37.9%   \n",
       "\n",
       "  % Goals-to-shots  Total shots (inc. Blocked)  Hit Woodwork  Penalty goals  \\\n",
       "0            16.0%                          32             0              0   \n",
       "1            12.9%                          39             0              0   \n",
       "2            20.0%                          27             1              0   \n",
       "3            17.2%                          40             0              0   \n",
       "4             6.5%                          65             1              0   \n",
       "\n",
       "   Penalties not scored  ...  Saves made  Saves-to-shots ratio  Fouls Won  \\\n",
       "0                     0  ...          13                 81.3%         41   \n",
       "1                     0  ...           9                 60.1%         53   \n",
       "2                     0  ...          10                 66.7%         25   \n",
       "3                     0  ...          22                 88.1%         43   \n",
       "4                     0  ...           6                 54.6%         36   \n",
       "\n",
       "  Fouls Conceded  Offsides  Yellow Cards  Red Cards  Subs on  Subs off  \\\n",
       "0             62         2             9          0        9         9   \n",
       "1             73         8             7          0       11        11   \n",
       "2             38         8             4          0        7         7   \n",
       "3             45         6             5          0       11        11   \n",
       "4             51         5             6          0       11        11   \n",
       "\n",
       "   Players Used  \n",
       "0            16  \n",
       "1            19  \n",
       "2            15  \n",
       "3            16  \n",
       "4            19  \n",
       "\n",
       "[5 rows x 35 columns]"
      ]
     },
     "execution_count": 45,
     "metadata": {},
     "output_type": "execute_result"
    }
   ],
   "source": [
    "import pandas as pd\n",
    "import numpy as np\n",
    "url = \"https://raw.githubusercontent.com/guipsamora/pandas_exercises/master/02_Filtering_%26_Sorting/Euro12/Euro_2012_stats_TEAM.csv\"\n",
    "euro12 = pd.read_csv(url)\n",
    "euro12.head()"
   ]
  },
  {
   "cell_type": "code",
   "execution_count": 49,
   "id": "4dc1d886-84f4-41e2-95b4-2cb0659799ce",
   "metadata": {},
   "outputs": [
    {
     "data": {
      "text/plain": [
       "0      4\n",
       "1      4\n",
       "2      4\n",
       "3      5\n",
       "4      3\n",
       "5     10\n",
       "6      5\n",
       "7      6\n",
       "8      2\n",
       "9      2\n",
       "10     6\n",
       "11     1\n",
       "12     5\n",
       "13    12\n",
       "14     5\n",
       "15     2\n",
       "Name: Goals, dtype: int64"
      ]
     },
     "execution_count": 49,
     "metadata": {},
     "output_type": "execute_result"
    }
   ],
   "source": [
    "goals = euro12['Goals']\n",
    "goals"
   ]
  },
  {
   "cell_type": "code",
   "execution_count": 51,
   "id": "448c3502-e605-4b0b-934d-95fac82669c0",
   "metadata": {},
   "outputs": [
    {
     "name": "stdout",
     "output_type": "stream",
     "text": [
      "The Number of teams that participated are: 16\n",
      "the Number of columns in the dataset are: 35\n"
     ]
    },
    {
     "data": {
      "text/html": [
       "<div>\n",
       "<style scoped>\n",
       "    .dataframe tbody tr th:only-of-type {\n",
       "        vertical-align: middle;\n",
       "    }\n",
       "\n",
       "    .dataframe tbody tr th {\n",
       "        vertical-align: top;\n",
       "    }\n",
       "\n",
       "    .dataframe thead th {\n",
       "        text-align: right;\n",
       "    }\n",
       "</style>\n",
       "<table border=\"1\" class=\"dataframe\">\n",
       "  <thead>\n",
       "    <tr style=\"text-align: right;\">\n",
       "      <th></th>\n",
       "      <th>Team</th>\n",
       "      <th>Yellow Cards</th>\n",
       "      <th>Red Cards</th>\n",
       "    </tr>\n",
       "  </thead>\n",
       "  <tbody>\n",
       "    <tr>\n",
       "      <th>0</th>\n",
       "      <td>Croatia</td>\n",
       "      <td>9</td>\n",
       "      <td>0</td>\n",
       "    </tr>\n",
       "    <tr>\n",
       "      <th>1</th>\n",
       "      <td>Czech Republic</td>\n",
       "      <td>7</td>\n",
       "      <td>0</td>\n",
       "    </tr>\n",
       "    <tr>\n",
       "      <th>2</th>\n",
       "      <td>Denmark</td>\n",
       "      <td>4</td>\n",
       "      <td>0</td>\n",
       "    </tr>\n",
       "    <tr>\n",
       "      <th>3</th>\n",
       "      <td>England</td>\n",
       "      <td>5</td>\n",
       "      <td>0</td>\n",
       "    </tr>\n",
       "    <tr>\n",
       "      <th>4</th>\n",
       "      <td>France</td>\n",
       "      <td>6</td>\n",
       "      <td>0</td>\n",
       "    </tr>\n",
       "  </tbody>\n",
       "</table>\n",
       "</div>"
      ],
      "text/plain": [
       "             Team  Yellow Cards  Red Cards\n",
       "0         Croatia             9          0\n",
       "1  Czech Republic             7          0\n",
       "2         Denmark             4          0\n",
       "3         England             5          0\n",
       "4          France             6          0"
      ]
     },
     "execution_count": 51,
     "metadata": {},
     "output_type": "execute_result"
    }
   ],
   "source": [
    "num_teams = euro12['Team'].nunique()\n",
    "print(f\"The Number of teams that participated are: {num_teams}\")\n",
    "num_columns = euro12.shape[1]\n",
    "print(f\"the Number of columns in the dataset are: {num_columns}\")\n",
    "discipline = euro12[['Team', 'Yellow Cards', 'Red Cards']]\n",
    "discipline.head()"
   ]
  },
  {
   "cell_type": "code",
   "execution_count": 53,
   "id": "07fc3774-06d2-4774-9cd0-5d27e581d697",
   "metadata": {},
   "outputs": [
    {
     "data": {
      "text/html": [
       "<div>\n",
       "<style scoped>\n",
       "    .dataframe tbody tr th:only-of-type {\n",
       "        vertical-align: middle;\n",
       "    }\n",
       "\n",
       "    .dataframe tbody tr th {\n",
       "        vertical-align: top;\n",
       "    }\n",
       "\n",
       "    .dataframe thead th {\n",
       "        text-align: right;\n",
       "    }\n",
       "</style>\n",
       "<table border=\"1\" class=\"dataframe\">\n",
       "  <thead>\n",
       "    <tr style=\"text-align: right;\">\n",
       "      <th></th>\n",
       "      <th>Team</th>\n",
       "      <th>Yellow Cards</th>\n",
       "      <th>Red Cards</th>\n",
       "    </tr>\n",
       "  </thead>\n",
       "  <tbody>\n",
       "    <tr>\n",
       "      <th>6</th>\n",
       "      <td>Greece</td>\n",
       "      <td>9</td>\n",
       "      <td>1</td>\n",
       "    </tr>\n",
       "    <tr>\n",
       "      <th>9</th>\n",
       "      <td>Poland</td>\n",
       "      <td>7</td>\n",
       "      <td>1</td>\n",
       "    </tr>\n",
       "    <tr>\n",
       "      <th>11</th>\n",
       "      <td>Republic of Ireland</td>\n",
       "      <td>6</td>\n",
       "      <td>1</td>\n",
       "    </tr>\n",
       "    <tr>\n",
       "      <th>7</th>\n",
       "      <td>Italy</td>\n",
       "      <td>16</td>\n",
       "      <td>0</td>\n",
       "    </tr>\n",
       "    <tr>\n",
       "      <th>10</th>\n",
       "      <td>Portugal</td>\n",
       "      <td>12</td>\n",
       "      <td>0</td>\n",
       "    </tr>\n",
       "    <tr>\n",
       "      <th>13</th>\n",
       "      <td>Spain</td>\n",
       "      <td>11</td>\n",
       "      <td>0</td>\n",
       "    </tr>\n",
       "    <tr>\n",
       "      <th>0</th>\n",
       "      <td>Croatia</td>\n",
       "      <td>9</td>\n",
       "      <td>0</td>\n",
       "    </tr>\n",
       "    <tr>\n",
       "      <th>1</th>\n",
       "      <td>Czech Republic</td>\n",
       "      <td>7</td>\n",
       "      <td>0</td>\n",
       "    </tr>\n",
       "    <tr>\n",
       "      <th>14</th>\n",
       "      <td>Sweden</td>\n",
       "      <td>7</td>\n",
       "      <td>0</td>\n",
       "    </tr>\n",
       "    <tr>\n",
       "      <th>4</th>\n",
       "      <td>France</td>\n",
       "      <td>6</td>\n",
       "      <td>0</td>\n",
       "    </tr>\n",
       "    <tr>\n",
       "      <th>12</th>\n",
       "      <td>Russia</td>\n",
       "      <td>6</td>\n",
       "      <td>0</td>\n",
       "    </tr>\n",
       "    <tr>\n",
       "      <th>3</th>\n",
       "      <td>England</td>\n",
       "      <td>5</td>\n",
       "      <td>0</td>\n",
       "    </tr>\n",
       "    <tr>\n",
       "      <th>8</th>\n",
       "      <td>Netherlands</td>\n",
       "      <td>5</td>\n",
       "      <td>0</td>\n",
       "    </tr>\n",
       "    <tr>\n",
       "      <th>15</th>\n",
       "      <td>Ukraine</td>\n",
       "      <td>5</td>\n",
       "      <td>0</td>\n",
       "    </tr>\n",
       "    <tr>\n",
       "      <th>2</th>\n",
       "      <td>Denmark</td>\n",
       "      <td>4</td>\n",
       "      <td>0</td>\n",
       "    </tr>\n",
       "    <tr>\n",
       "      <th>5</th>\n",
       "      <td>Germany</td>\n",
       "      <td>4</td>\n",
       "      <td>0</td>\n",
       "    </tr>\n",
       "  </tbody>\n",
       "</table>\n",
       "</div>"
      ],
      "text/plain": [
       "                   Team  Yellow Cards  Red Cards\n",
       "6                Greece             9          1\n",
       "9                Poland             7          1\n",
       "11  Republic of Ireland             6          1\n",
       "7                 Italy            16          0\n",
       "10             Portugal            12          0\n",
       "13                Spain            11          0\n",
       "0               Croatia             9          0\n",
       "1        Czech Republic             7          0\n",
       "14               Sweden             7          0\n",
       "4                France             6          0\n",
       "12               Russia             6          0\n",
       "3               England             5          0\n",
       "8           Netherlands             5          0\n",
       "15              Ukraine             5          0\n",
       "2               Denmark             4          0\n",
       "5               Germany             4          0"
      ]
     },
     "execution_count": 53,
     "metadata": {},
     "output_type": "execute_result"
    }
   ],
   "source": [
    "sorted_discipline = discipline.sort_values(by=['Red Cards', 'Yellow Cards'], ascending=[False, False])\n",
    "sorted_discipline"
   ]
  },
  {
   "cell_type": "code",
   "execution_count": 55,
   "id": "27b3f464-9f74-41df-b2f5-1fc77277cb2c",
   "metadata": {},
   "outputs": [
    {
     "name": "stdout",
     "output_type": "stream",
     "text": [
      "The Average Yellow Cards per team are 7.44\n"
     ]
    },
    {
     "data": {
      "text/html": [
       "<div>\n",
       "<style scoped>\n",
       "    .dataframe tbody tr th:only-of-type {\n",
       "        vertical-align: middle;\n",
       "    }\n",
       "\n",
       "    .dataframe tbody tr th {\n",
       "        vertical-align: top;\n",
       "    }\n",
       "\n",
       "    .dataframe thead th {\n",
       "        text-align: right;\n",
       "    }\n",
       "</style>\n",
       "<table border=\"1\" class=\"dataframe\">\n",
       "  <thead>\n",
       "    <tr style=\"text-align: right;\">\n",
       "      <th></th>\n",
       "      <th>Team</th>\n",
       "      <th>Goals</th>\n",
       "      <th>Shots on target</th>\n",
       "      <th>Shots off target</th>\n",
       "      <th>Shooting Accuracy</th>\n",
       "      <th>% Goals-to-shots</th>\n",
       "      <th>Total shots (inc. Blocked)</th>\n",
       "      <th>Hit Woodwork</th>\n",
       "      <th>Penalty goals</th>\n",
       "      <th>Penalties not scored</th>\n",
       "      <th>...</th>\n",
       "      <th>Saves made</th>\n",
       "      <th>Saves-to-shots ratio</th>\n",
       "      <th>Fouls Won</th>\n",
       "      <th>Fouls Conceded</th>\n",
       "      <th>Offsides</th>\n",
       "      <th>Yellow Cards</th>\n",
       "      <th>Red Cards</th>\n",
       "      <th>Subs on</th>\n",
       "      <th>Subs off</th>\n",
       "      <th>Players Used</th>\n",
       "    </tr>\n",
       "  </thead>\n",
       "  <tbody>\n",
       "    <tr>\n",
       "      <th>5</th>\n",
       "      <td>Germany</td>\n",
       "      <td>10</td>\n",
       "      <td>32</td>\n",
       "      <td>32</td>\n",
       "      <td>47.8%</td>\n",
       "      <td>15.6%</td>\n",
       "      <td>80</td>\n",
       "      <td>2</td>\n",
       "      <td>1</td>\n",
       "      <td>0</td>\n",
       "      <td>...</td>\n",
       "      <td>10</td>\n",
       "      <td>62.6%</td>\n",
       "      <td>63</td>\n",
       "      <td>49</td>\n",
       "      <td>12</td>\n",
       "      <td>4</td>\n",
       "      <td>0</td>\n",
       "      <td>15</td>\n",
       "      <td>15</td>\n",
       "      <td>17</td>\n",
       "    </tr>\n",
       "    <tr>\n",
       "      <th>13</th>\n",
       "      <td>Spain</td>\n",
       "      <td>12</td>\n",
       "      <td>42</td>\n",
       "      <td>33</td>\n",
       "      <td>55.9%</td>\n",
       "      <td>16.0%</td>\n",
       "      <td>100</td>\n",
       "      <td>0</td>\n",
       "      <td>1</td>\n",
       "      <td>0</td>\n",
       "      <td>...</td>\n",
       "      <td>15</td>\n",
       "      <td>93.8%</td>\n",
       "      <td>102</td>\n",
       "      <td>83</td>\n",
       "      <td>19</td>\n",
       "      <td>11</td>\n",
       "      <td>0</td>\n",
       "      <td>17</td>\n",
       "      <td>17</td>\n",
       "      <td>18</td>\n",
       "    </tr>\n",
       "  </tbody>\n",
       "</table>\n",
       "<p>2 rows × 35 columns</p>\n",
       "</div>"
      ],
      "text/plain": [
       "       Team  Goals  Shots on target  Shots off target Shooting Accuracy  \\\n",
       "5   Germany     10               32                32             47.8%   \n",
       "13    Spain     12               42                33             55.9%   \n",
       "\n",
       "   % Goals-to-shots  Total shots (inc. Blocked)  Hit Woodwork  Penalty goals  \\\n",
       "5             15.6%                          80             2              1   \n",
       "13            16.0%                         100             0              1   \n",
       "\n",
       "    Penalties not scored  ...  Saves made  Saves-to-shots ratio  Fouls Won  \\\n",
       "5                      0  ...          10                 62.6%         63   \n",
       "13                     0  ...          15                 93.8%        102   \n",
       "\n",
       "   Fouls Conceded  Offsides  Yellow Cards  Red Cards  Subs on  Subs off  \\\n",
       "5              49        12             4          0       15        15   \n",
       "13             83        19            11          0       17        17   \n",
       "\n",
       "    Players Used  \n",
       "5             17  \n",
       "13            18  \n",
       "\n",
       "[2 rows x 35 columns]"
      ]
     },
     "execution_count": 55,
     "metadata": {},
     "output_type": "execute_result"
    }
   ],
   "source": [
    "mean_yellow_cards = euro12['Yellow Cards'].mean()\n",
    "print(f\"The Average Yellow Cards per team are {mean_yellow_cards:.2f}\")\n",
    "high_scorers = euro12[euro12['Goals'] > 6]\n",
    "high_scorers"
   ]
  },
  {
   "cell_type": "code",
   "execution_count": 57,
   "id": "8404f088-8742-43bb-9393-8a688e836824",
   "metadata": {},
   "outputs": [
    {
     "data": {
      "text/html": [
       "<div>\n",
       "<style scoped>\n",
       "    .dataframe tbody tr th:only-of-type {\n",
       "        vertical-align: middle;\n",
       "    }\n",
       "\n",
       "    .dataframe tbody tr th {\n",
       "        vertical-align: top;\n",
       "    }\n",
       "\n",
       "    .dataframe thead th {\n",
       "        text-align: right;\n",
       "    }\n",
       "</style>\n",
       "<table border=\"1\" class=\"dataframe\">\n",
       "  <thead>\n",
       "    <tr style=\"text-align: right;\">\n",
       "      <th></th>\n",
       "      <th>Team</th>\n",
       "      <th>Goals</th>\n",
       "      <th>Shots on target</th>\n",
       "      <th>Shots off target</th>\n",
       "      <th>Shooting Accuracy</th>\n",
       "      <th>% Goals-to-shots</th>\n",
       "      <th>Total shots (inc. Blocked)</th>\n",
       "      <th>Hit Woodwork</th>\n",
       "      <th>Penalty goals</th>\n",
       "      <th>Penalties not scored</th>\n",
       "      <th>...</th>\n",
       "      <th>Saves made</th>\n",
       "      <th>Saves-to-shots ratio</th>\n",
       "      <th>Fouls Won</th>\n",
       "      <th>Fouls Conceded</th>\n",
       "      <th>Offsides</th>\n",
       "      <th>Yellow Cards</th>\n",
       "      <th>Red Cards</th>\n",
       "      <th>Subs on</th>\n",
       "      <th>Subs off</th>\n",
       "      <th>Players Used</th>\n",
       "    </tr>\n",
       "  </thead>\n",
       "  <tbody>\n",
       "    <tr>\n",
       "      <th>5</th>\n",
       "      <td>Germany</td>\n",
       "      <td>10</td>\n",
       "      <td>32</td>\n",
       "      <td>32</td>\n",
       "      <td>47.8%</td>\n",
       "      <td>15.6%</td>\n",
       "      <td>80</td>\n",
       "      <td>2</td>\n",
       "      <td>1</td>\n",
       "      <td>0</td>\n",
       "      <td>...</td>\n",
       "      <td>10</td>\n",
       "      <td>62.6%</td>\n",
       "      <td>63</td>\n",
       "      <td>49</td>\n",
       "      <td>12</td>\n",
       "      <td>4</td>\n",
       "      <td>0</td>\n",
       "      <td>15</td>\n",
       "      <td>15</td>\n",
       "      <td>17</td>\n",
       "    </tr>\n",
       "    <tr>\n",
       "      <th>6</th>\n",
       "      <td>Greece</td>\n",
       "      <td>5</td>\n",
       "      <td>8</td>\n",
       "      <td>18</td>\n",
       "      <td>30.7%</td>\n",
       "      <td>19.2%</td>\n",
       "      <td>32</td>\n",
       "      <td>1</td>\n",
       "      <td>1</td>\n",
       "      <td>1</td>\n",
       "      <td>...</td>\n",
       "      <td>13</td>\n",
       "      <td>65.1%</td>\n",
       "      <td>67</td>\n",
       "      <td>48</td>\n",
       "      <td>12</td>\n",
       "      <td>9</td>\n",
       "      <td>1</td>\n",
       "      <td>12</td>\n",
       "      <td>12</td>\n",
       "      <td>20</td>\n",
       "    </tr>\n",
       "  </tbody>\n",
       "</table>\n",
       "<p>2 rows × 35 columns</p>\n",
       "</div>"
      ],
      "text/plain": [
       "      Team  Goals  Shots on target  Shots off target Shooting Accuracy  \\\n",
       "5  Germany     10               32                32             47.8%   \n",
       "6   Greece      5                8                18             30.7%   \n",
       "\n",
       "  % Goals-to-shots  Total shots (inc. Blocked)  Hit Woodwork  Penalty goals  \\\n",
       "5            15.6%                          80             2              1   \n",
       "6            19.2%                          32             1              1   \n",
       "\n",
       "   Penalties not scored  ...  Saves made  Saves-to-shots ratio  Fouls Won  \\\n",
       "5                     0  ...          10                 62.6%         63   \n",
       "6                     1  ...          13                 65.1%         67   \n",
       "\n",
       "  Fouls Conceded  Offsides  Yellow Cards  Red Cards  Subs on  Subs off  \\\n",
       "5             49        12             4          0       15        15   \n",
       "6             48        12             9          1       12        12   \n",
       "\n",
       "   Players Used  \n",
       "5            17  \n",
       "6            20  \n",
       "\n",
       "[2 rows x 35 columns]"
      ]
     },
     "execution_count": 57,
     "metadata": {},
     "output_type": "execute_result"
    }
   ],
   "source": [
    "teams_starting_with_g = euro12[euro12['Team'].str.startswith('G')]\n",
    "teams_starting_with_g"
   ]
  },
  {
   "cell_type": "code",
   "execution_count": 59,
   "id": "25ed3e2b-5ece-4d7f-8e98-4d9bef2ae33c",
   "metadata": {},
   "outputs": [
    {
     "data": {
      "text/html": [
       "<div>\n",
       "<style scoped>\n",
       "    .dataframe tbody tr th:only-of-type {\n",
       "        vertical-align: middle;\n",
       "    }\n",
       "\n",
       "    .dataframe tbody tr th {\n",
       "        vertical-align: top;\n",
       "    }\n",
       "\n",
       "    .dataframe thead th {\n",
       "        text-align: right;\n",
       "    }\n",
       "</style>\n",
       "<table border=\"1\" class=\"dataframe\">\n",
       "  <thead>\n",
       "    <tr style=\"text-align: right;\">\n",
       "      <th></th>\n",
       "      <th>Team</th>\n",
       "      <th>Goals</th>\n",
       "      <th>Shots on target</th>\n",
       "      <th>Shots off target</th>\n",
       "      <th>Shooting Accuracy</th>\n",
       "      <th>% Goals-to-shots</th>\n",
       "      <th>Total shots (inc. Blocked)</th>\n",
       "    </tr>\n",
       "  </thead>\n",
       "  <tbody>\n",
       "    <tr>\n",
       "      <th>0</th>\n",
       "      <td>Croatia</td>\n",
       "      <td>4</td>\n",
       "      <td>13</td>\n",
       "      <td>12</td>\n",
       "      <td>51.9%</td>\n",
       "      <td>16.0%</td>\n",
       "      <td>32</td>\n",
       "    </tr>\n",
       "    <tr>\n",
       "      <th>1</th>\n",
       "      <td>Czech Republic</td>\n",
       "      <td>4</td>\n",
       "      <td>13</td>\n",
       "      <td>18</td>\n",
       "      <td>41.9%</td>\n",
       "      <td>12.9%</td>\n",
       "      <td>39</td>\n",
       "    </tr>\n",
       "    <tr>\n",
       "      <th>2</th>\n",
       "      <td>Denmark</td>\n",
       "      <td>4</td>\n",
       "      <td>10</td>\n",
       "      <td>10</td>\n",
       "      <td>50.0%</td>\n",
       "      <td>20.0%</td>\n",
       "      <td>27</td>\n",
       "    </tr>\n",
       "    <tr>\n",
       "      <th>3</th>\n",
       "      <td>England</td>\n",
       "      <td>5</td>\n",
       "      <td>11</td>\n",
       "      <td>18</td>\n",
       "      <td>50.0%</td>\n",
       "      <td>17.2%</td>\n",
       "      <td>40</td>\n",
       "    </tr>\n",
       "    <tr>\n",
       "      <th>4</th>\n",
       "      <td>France</td>\n",
       "      <td>3</td>\n",
       "      <td>22</td>\n",
       "      <td>24</td>\n",
       "      <td>37.9%</td>\n",
       "      <td>6.5%</td>\n",
       "      <td>65</td>\n",
       "    </tr>\n",
       "    <tr>\n",
       "      <th>5</th>\n",
       "      <td>Germany</td>\n",
       "      <td>10</td>\n",
       "      <td>32</td>\n",
       "      <td>32</td>\n",
       "      <td>47.8%</td>\n",
       "      <td>15.6%</td>\n",
       "      <td>80</td>\n",
       "    </tr>\n",
       "    <tr>\n",
       "      <th>6</th>\n",
       "      <td>Greece</td>\n",
       "      <td>5</td>\n",
       "      <td>8</td>\n",
       "      <td>18</td>\n",
       "      <td>30.7%</td>\n",
       "      <td>19.2%</td>\n",
       "      <td>32</td>\n",
       "    </tr>\n",
       "    <tr>\n",
       "      <th>7</th>\n",
       "      <td>Italy</td>\n",
       "      <td>6</td>\n",
       "      <td>34</td>\n",
       "      <td>45</td>\n",
       "      <td>43.0%</td>\n",
       "      <td>7.5%</td>\n",
       "      <td>110</td>\n",
       "    </tr>\n",
       "    <tr>\n",
       "      <th>8</th>\n",
       "      <td>Netherlands</td>\n",
       "      <td>2</td>\n",
       "      <td>12</td>\n",
       "      <td>36</td>\n",
       "      <td>25.0%</td>\n",
       "      <td>4.1%</td>\n",
       "      <td>60</td>\n",
       "    </tr>\n",
       "    <tr>\n",
       "      <th>9</th>\n",
       "      <td>Poland</td>\n",
       "      <td>2</td>\n",
       "      <td>15</td>\n",
       "      <td>23</td>\n",
       "      <td>39.4%</td>\n",
       "      <td>5.2%</td>\n",
       "      <td>48</td>\n",
       "    </tr>\n",
       "    <tr>\n",
       "      <th>10</th>\n",
       "      <td>Portugal</td>\n",
       "      <td>6</td>\n",
       "      <td>22</td>\n",
       "      <td>42</td>\n",
       "      <td>34.3%</td>\n",
       "      <td>9.3%</td>\n",
       "      <td>82</td>\n",
       "    </tr>\n",
       "    <tr>\n",
       "      <th>11</th>\n",
       "      <td>Republic of Ireland</td>\n",
       "      <td>1</td>\n",
       "      <td>7</td>\n",
       "      <td>12</td>\n",
       "      <td>36.8%</td>\n",
       "      <td>5.2%</td>\n",
       "      <td>28</td>\n",
       "    </tr>\n",
       "    <tr>\n",
       "      <th>12</th>\n",
       "      <td>Russia</td>\n",
       "      <td>5</td>\n",
       "      <td>9</td>\n",
       "      <td>31</td>\n",
       "      <td>22.5%</td>\n",
       "      <td>12.5%</td>\n",
       "      <td>59</td>\n",
       "    </tr>\n",
       "    <tr>\n",
       "      <th>13</th>\n",
       "      <td>Spain</td>\n",
       "      <td>12</td>\n",
       "      <td>42</td>\n",
       "      <td>33</td>\n",
       "      <td>55.9%</td>\n",
       "      <td>16.0%</td>\n",
       "      <td>100</td>\n",
       "    </tr>\n",
       "    <tr>\n",
       "      <th>14</th>\n",
       "      <td>Sweden</td>\n",
       "      <td>5</td>\n",
       "      <td>17</td>\n",
       "      <td>19</td>\n",
       "      <td>47.2%</td>\n",
       "      <td>13.8%</td>\n",
       "      <td>39</td>\n",
       "    </tr>\n",
       "    <tr>\n",
       "      <th>15</th>\n",
       "      <td>Ukraine</td>\n",
       "      <td>2</td>\n",
       "      <td>7</td>\n",
       "      <td>26</td>\n",
       "      <td>21.2%</td>\n",
       "      <td>6.0%</td>\n",
       "      <td>38</td>\n",
       "    </tr>\n",
       "  </tbody>\n",
       "</table>\n",
       "</div>"
      ],
      "text/plain": [
       "                   Team  Goals  Shots on target  Shots off target  \\\n",
       "0               Croatia      4               13                12   \n",
       "1        Czech Republic      4               13                18   \n",
       "2               Denmark      4               10                10   \n",
       "3               England      5               11                18   \n",
       "4                France      3               22                24   \n",
       "5               Germany     10               32                32   \n",
       "6                Greece      5                8                18   \n",
       "7                 Italy      6               34                45   \n",
       "8           Netherlands      2               12                36   \n",
       "9                Poland      2               15                23   \n",
       "10             Portugal      6               22                42   \n",
       "11  Republic of Ireland      1                7                12   \n",
       "12               Russia      5                9                31   \n",
       "13                Spain     12               42                33   \n",
       "14               Sweden      5               17                19   \n",
       "15              Ukraine      2                7                26   \n",
       "\n",
       "   Shooting Accuracy % Goals-to-shots  Total shots (inc. Blocked)  \n",
       "0              51.9%            16.0%                          32  \n",
       "1              41.9%            12.9%                          39  \n",
       "2              50.0%            20.0%                          27  \n",
       "3              50.0%            17.2%                          40  \n",
       "4              37.9%             6.5%                          65  \n",
       "5              47.8%            15.6%                          80  \n",
       "6              30.7%            19.2%                          32  \n",
       "7              43.0%             7.5%                         110  \n",
       "8              25.0%             4.1%                          60  \n",
       "9              39.4%             5.2%                          48  \n",
       "10             34.3%             9.3%                          82  \n",
       "11             36.8%             5.2%                          28  \n",
       "12             22.5%            12.5%                          59  \n",
       "13             55.9%            16.0%                         100  \n",
       "14             47.2%            13.8%                          39  \n",
       "15             21.2%             6.0%                          38  "
      ]
     },
     "execution_count": 59,
     "metadata": {},
     "output_type": "execute_result"
    }
   ],
   "source": [
    "first_7_columns = euro12.iloc[:, :7]\n",
    "first_7_columns"
   ]
  },
  {
   "cell_type": "code",
   "execution_count": 61,
   "id": "481d7125-1252-49e4-be1d-c7d83a200789",
   "metadata": {},
   "outputs": [
    {
     "data": {
      "text/html": [
       "<div>\n",
       "<style scoped>\n",
       "    .dataframe tbody tr th:only-of-type {\n",
       "        vertical-align: middle;\n",
       "    }\n",
       "\n",
       "    .dataframe tbody tr th {\n",
       "        vertical-align: top;\n",
       "    }\n",
       "\n",
       "    .dataframe thead th {\n",
       "        text-align: right;\n",
       "    }\n",
       "</style>\n",
       "<table border=\"1\" class=\"dataframe\">\n",
       "  <thead>\n",
       "    <tr style=\"text-align: right;\">\n",
       "      <th></th>\n",
       "      <th>Team</th>\n",
       "      <th>Goals</th>\n",
       "      <th>Shots on target</th>\n",
       "      <th>Shots off target</th>\n",
       "      <th>Shooting Accuracy</th>\n",
       "      <th>% Goals-to-shots</th>\n",
       "      <th>Total shots (inc. Blocked)</th>\n",
       "      <th>Hit Woodwork</th>\n",
       "      <th>Penalty goals</th>\n",
       "      <th>Penalties not scored</th>\n",
       "      <th>...</th>\n",
       "      <th>Clean Sheets</th>\n",
       "      <th>Blocks</th>\n",
       "      <th>Goals conceded</th>\n",
       "      <th>Saves made</th>\n",
       "      <th>Saves-to-shots ratio</th>\n",
       "      <th>Fouls Won</th>\n",
       "      <th>Fouls Conceded</th>\n",
       "      <th>Offsides</th>\n",
       "      <th>Yellow Cards</th>\n",
       "      <th>Red Cards</th>\n",
       "    </tr>\n",
       "  </thead>\n",
       "  <tbody>\n",
       "    <tr>\n",
       "      <th>0</th>\n",
       "      <td>Croatia</td>\n",
       "      <td>4</td>\n",
       "      <td>13</td>\n",
       "      <td>12</td>\n",
       "      <td>51.9%</td>\n",
       "      <td>16.0%</td>\n",
       "      <td>32</td>\n",
       "      <td>0</td>\n",
       "      <td>0</td>\n",
       "      <td>0</td>\n",
       "      <td>...</td>\n",
       "      <td>0</td>\n",
       "      <td>10</td>\n",
       "      <td>3</td>\n",
       "      <td>13</td>\n",
       "      <td>81.3%</td>\n",
       "      <td>41</td>\n",
       "      <td>62</td>\n",
       "      <td>2</td>\n",
       "      <td>9</td>\n",
       "      <td>0</td>\n",
       "    </tr>\n",
       "    <tr>\n",
       "      <th>1</th>\n",
       "      <td>Czech Republic</td>\n",
       "      <td>4</td>\n",
       "      <td>13</td>\n",
       "      <td>18</td>\n",
       "      <td>41.9%</td>\n",
       "      <td>12.9%</td>\n",
       "      <td>39</td>\n",
       "      <td>0</td>\n",
       "      <td>0</td>\n",
       "      <td>0</td>\n",
       "      <td>...</td>\n",
       "      <td>1</td>\n",
       "      <td>10</td>\n",
       "      <td>6</td>\n",
       "      <td>9</td>\n",
       "      <td>60.1%</td>\n",
       "      <td>53</td>\n",
       "      <td>73</td>\n",
       "      <td>8</td>\n",
       "      <td>7</td>\n",
       "      <td>0</td>\n",
       "    </tr>\n",
       "    <tr>\n",
       "      <th>2</th>\n",
       "      <td>Denmark</td>\n",
       "      <td>4</td>\n",
       "      <td>10</td>\n",
       "      <td>10</td>\n",
       "      <td>50.0%</td>\n",
       "      <td>20.0%</td>\n",
       "      <td>27</td>\n",
       "      <td>1</td>\n",
       "      <td>0</td>\n",
       "      <td>0</td>\n",
       "      <td>...</td>\n",
       "      <td>1</td>\n",
       "      <td>10</td>\n",
       "      <td>5</td>\n",
       "      <td>10</td>\n",
       "      <td>66.7%</td>\n",
       "      <td>25</td>\n",
       "      <td>38</td>\n",
       "      <td>8</td>\n",
       "      <td>4</td>\n",
       "      <td>0</td>\n",
       "    </tr>\n",
       "    <tr>\n",
       "      <th>3</th>\n",
       "      <td>England</td>\n",
       "      <td>5</td>\n",
       "      <td>11</td>\n",
       "      <td>18</td>\n",
       "      <td>50.0%</td>\n",
       "      <td>17.2%</td>\n",
       "      <td>40</td>\n",
       "      <td>0</td>\n",
       "      <td>0</td>\n",
       "      <td>0</td>\n",
       "      <td>...</td>\n",
       "      <td>2</td>\n",
       "      <td>29</td>\n",
       "      <td>3</td>\n",
       "      <td>22</td>\n",
       "      <td>88.1%</td>\n",
       "      <td>43</td>\n",
       "      <td>45</td>\n",
       "      <td>6</td>\n",
       "      <td>5</td>\n",
       "      <td>0</td>\n",
       "    </tr>\n",
       "    <tr>\n",
       "      <th>4</th>\n",
       "      <td>France</td>\n",
       "      <td>3</td>\n",
       "      <td>22</td>\n",
       "      <td>24</td>\n",
       "      <td>37.9%</td>\n",
       "      <td>6.5%</td>\n",
       "      <td>65</td>\n",
       "      <td>1</td>\n",
       "      <td>0</td>\n",
       "      <td>0</td>\n",
       "      <td>...</td>\n",
       "      <td>1</td>\n",
       "      <td>7</td>\n",
       "      <td>5</td>\n",
       "      <td>6</td>\n",
       "      <td>54.6%</td>\n",
       "      <td>36</td>\n",
       "      <td>51</td>\n",
       "      <td>5</td>\n",
       "      <td>6</td>\n",
       "      <td>0</td>\n",
       "    </tr>\n",
       "    <tr>\n",
       "      <th>5</th>\n",
       "      <td>Germany</td>\n",
       "      <td>10</td>\n",
       "      <td>32</td>\n",
       "      <td>32</td>\n",
       "      <td>47.8%</td>\n",
       "      <td>15.6%</td>\n",
       "      <td>80</td>\n",
       "      <td>2</td>\n",
       "      <td>1</td>\n",
       "      <td>0</td>\n",
       "      <td>...</td>\n",
       "      <td>1</td>\n",
       "      <td>11</td>\n",
       "      <td>6</td>\n",
       "      <td>10</td>\n",
       "      <td>62.6%</td>\n",
       "      <td>63</td>\n",
       "      <td>49</td>\n",
       "      <td>12</td>\n",
       "      <td>4</td>\n",
       "      <td>0</td>\n",
       "    </tr>\n",
       "    <tr>\n",
       "      <th>6</th>\n",
       "      <td>Greece</td>\n",
       "      <td>5</td>\n",
       "      <td>8</td>\n",
       "      <td>18</td>\n",
       "      <td>30.7%</td>\n",
       "      <td>19.2%</td>\n",
       "      <td>32</td>\n",
       "      <td>1</td>\n",
       "      <td>1</td>\n",
       "      <td>1</td>\n",
       "      <td>...</td>\n",
       "      <td>1</td>\n",
       "      <td>23</td>\n",
       "      <td>7</td>\n",
       "      <td>13</td>\n",
       "      <td>65.1%</td>\n",
       "      <td>67</td>\n",
       "      <td>48</td>\n",
       "      <td>12</td>\n",
       "      <td>9</td>\n",
       "      <td>1</td>\n",
       "    </tr>\n",
       "    <tr>\n",
       "      <th>7</th>\n",
       "      <td>Italy</td>\n",
       "      <td>6</td>\n",
       "      <td>34</td>\n",
       "      <td>45</td>\n",
       "      <td>43.0%</td>\n",
       "      <td>7.5%</td>\n",
       "      <td>110</td>\n",
       "      <td>2</td>\n",
       "      <td>0</td>\n",
       "      <td>0</td>\n",
       "      <td>...</td>\n",
       "      <td>2</td>\n",
       "      <td>18</td>\n",
       "      <td>7</td>\n",
       "      <td>20</td>\n",
       "      <td>74.1%</td>\n",
       "      <td>101</td>\n",
       "      <td>89</td>\n",
       "      <td>16</td>\n",
       "      <td>16</td>\n",
       "      <td>0</td>\n",
       "    </tr>\n",
       "    <tr>\n",
       "      <th>8</th>\n",
       "      <td>Netherlands</td>\n",
       "      <td>2</td>\n",
       "      <td>12</td>\n",
       "      <td>36</td>\n",
       "      <td>25.0%</td>\n",
       "      <td>4.1%</td>\n",
       "      <td>60</td>\n",
       "      <td>2</td>\n",
       "      <td>0</td>\n",
       "      <td>0</td>\n",
       "      <td>...</td>\n",
       "      <td>0</td>\n",
       "      <td>9</td>\n",
       "      <td>5</td>\n",
       "      <td>12</td>\n",
       "      <td>70.6%</td>\n",
       "      <td>35</td>\n",
       "      <td>30</td>\n",
       "      <td>3</td>\n",
       "      <td>5</td>\n",
       "      <td>0</td>\n",
       "    </tr>\n",
       "    <tr>\n",
       "      <th>9</th>\n",
       "      <td>Poland</td>\n",
       "      <td>2</td>\n",
       "      <td>15</td>\n",
       "      <td>23</td>\n",
       "      <td>39.4%</td>\n",
       "      <td>5.2%</td>\n",
       "      <td>48</td>\n",
       "      <td>0</td>\n",
       "      <td>0</td>\n",
       "      <td>0</td>\n",
       "      <td>...</td>\n",
       "      <td>0</td>\n",
       "      <td>8</td>\n",
       "      <td>3</td>\n",
       "      <td>6</td>\n",
       "      <td>66.7%</td>\n",
       "      <td>48</td>\n",
       "      <td>56</td>\n",
       "      <td>3</td>\n",
       "      <td>7</td>\n",
       "      <td>1</td>\n",
       "    </tr>\n",
       "    <tr>\n",
       "      <th>10</th>\n",
       "      <td>Portugal</td>\n",
       "      <td>6</td>\n",
       "      <td>22</td>\n",
       "      <td>42</td>\n",
       "      <td>34.3%</td>\n",
       "      <td>9.3%</td>\n",
       "      <td>82</td>\n",
       "      <td>6</td>\n",
       "      <td>0</td>\n",
       "      <td>0</td>\n",
       "      <td>...</td>\n",
       "      <td>2</td>\n",
       "      <td>11</td>\n",
       "      <td>4</td>\n",
       "      <td>10</td>\n",
       "      <td>71.5%</td>\n",
       "      <td>73</td>\n",
       "      <td>90</td>\n",
       "      <td>10</td>\n",
       "      <td>12</td>\n",
       "      <td>0</td>\n",
       "    </tr>\n",
       "    <tr>\n",
       "      <th>11</th>\n",
       "      <td>Republic of Ireland</td>\n",
       "      <td>1</td>\n",
       "      <td>7</td>\n",
       "      <td>12</td>\n",
       "      <td>36.8%</td>\n",
       "      <td>5.2%</td>\n",
       "      <td>28</td>\n",
       "      <td>0</td>\n",
       "      <td>0</td>\n",
       "      <td>0</td>\n",
       "      <td>...</td>\n",
       "      <td>0</td>\n",
       "      <td>23</td>\n",
       "      <td>9</td>\n",
       "      <td>17</td>\n",
       "      <td>65.4%</td>\n",
       "      <td>43</td>\n",
       "      <td>51</td>\n",
       "      <td>11</td>\n",
       "      <td>6</td>\n",
       "      <td>1</td>\n",
       "    </tr>\n",
       "    <tr>\n",
       "      <th>12</th>\n",
       "      <td>Russia</td>\n",
       "      <td>5</td>\n",
       "      <td>9</td>\n",
       "      <td>31</td>\n",
       "      <td>22.5%</td>\n",
       "      <td>12.5%</td>\n",
       "      <td>59</td>\n",
       "      <td>2</td>\n",
       "      <td>0</td>\n",
       "      <td>0</td>\n",
       "      <td>...</td>\n",
       "      <td>0</td>\n",
       "      <td>8</td>\n",
       "      <td>3</td>\n",
       "      <td>10</td>\n",
       "      <td>77.0%</td>\n",
       "      <td>34</td>\n",
       "      <td>43</td>\n",
       "      <td>4</td>\n",
       "      <td>6</td>\n",
       "      <td>0</td>\n",
       "    </tr>\n",
       "    <tr>\n",
       "      <th>13</th>\n",
       "      <td>Spain</td>\n",
       "      <td>12</td>\n",
       "      <td>42</td>\n",
       "      <td>33</td>\n",
       "      <td>55.9%</td>\n",
       "      <td>16.0%</td>\n",
       "      <td>100</td>\n",
       "      <td>0</td>\n",
       "      <td>1</td>\n",
       "      <td>0</td>\n",
       "      <td>...</td>\n",
       "      <td>5</td>\n",
       "      <td>8</td>\n",
       "      <td>1</td>\n",
       "      <td>15</td>\n",
       "      <td>93.8%</td>\n",
       "      <td>102</td>\n",
       "      <td>83</td>\n",
       "      <td>19</td>\n",
       "      <td>11</td>\n",
       "      <td>0</td>\n",
       "    </tr>\n",
       "    <tr>\n",
       "      <th>14</th>\n",
       "      <td>Sweden</td>\n",
       "      <td>5</td>\n",
       "      <td>17</td>\n",
       "      <td>19</td>\n",
       "      <td>47.2%</td>\n",
       "      <td>13.8%</td>\n",
       "      <td>39</td>\n",
       "      <td>3</td>\n",
       "      <td>0</td>\n",
       "      <td>0</td>\n",
       "      <td>...</td>\n",
       "      <td>1</td>\n",
       "      <td>12</td>\n",
       "      <td>5</td>\n",
       "      <td>8</td>\n",
       "      <td>61.6%</td>\n",
       "      <td>35</td>\n",
       "      <td>51</td>\n",
       "      <td>7</td>\n",
       "      <td>7</td>\n",
       "      <td>0</td>\n",
       "    </tr>\n",
       "    <tr>\n",
       "      <th>15</th>\n",
       "      <td>Ukraine</td>\n",
       "      <td>2</td>\n",
       "      <td>7</td>\n",
       "      <td>26</td>\n",
       "      <td>21.2%</td>\n",
       "      <td>6.0%</td>\n",
       "      <td>38</td>\n",
       "      <td>0</td>\n",
       "      <td>0</td>\n",
       "      <td>0</td>\n",
       "      <td>...</td>\n",
       "      <td>0</td>\n",
       "      <td>4</td>\n",
       "      <td>4</td>\n",
       "      <td>13</td>\n",
       "      <td>76.5%</td>\n",
       "      <td>48</td>\n",
       "      <td>31</td>\n",
       "      <td>4</td>\n",
       "      <td>5</td>\n",
       "      <td>0</td>\n",
       "    </tr>\n",
       "  </tbody>\n",
       "</table>\n",
       "<p>16 rows × 32 columns</p>\n",
       "</div>"
      ],
      "text/plain": [
       "                   Team  Goals  Shots on target  Shots off target  \\\n",
       "0               Croatia      4               13                12   \n",
       "1        Czech Republic      4               13                18   \n",
       "2               Denmark      4               10                10   \n",
       "3               England      5               11                18   \n",
       "4                France      3               22                24   \n",
       "5               Germany     10               32                32   \n",
       "6                Greece      5                8                18   \n",
       "7                 Italy      6               34                45   \n",
       "8           Netherlands      2               12                36   \n",
       "9                Poland      2               15                23   \n",
       "10             Portugal      6               22                42   \n",
       "11  Republic of Ireland      1                7                12   \n",
       "12               Russia      5                9                31   \n",
       "13                Spain     12               42                33   \n",
       "14               Sweden      5               17                19   \n",
       "15              Ukraine      2                7                26   \n",
       "\n",
       "   Shooting Accuracy % Goals-to-shots  Total shots (inc. Blocked)  \\\n",
       "0              51.9%            16.0%                          32   \n",
       "1              41.9%            12.9%                          39   \n",
       "2              50.0%            20.0%                          27   \n",
       "3              50.0%            17.2%                          40   \n",
       "4              37.9%             6.5%                          65   \n",
       "5              47.8%            15.6%                          80   \n",
       "6              30.7%            19.2%                          32   \n",
       "7              43.0%             7.5%                         110   \n",
       "8              25.0%             4.1%                          60   \n",
       "9              39.4%             5.2%                          48   \n",
       "10             34.3%             9.3%                          82   \n",
       "11             36.8%             5.2%                          28   \n",
       "12             22.5%            12.5%                          59   \n",
       "13             55.9%            16.0%                         100   \n",
       "14             47.2%            13.8%                          39   \n",
       "15             21.2%             6.0%                          38   \n",
       "\n",
       "    Hit Woodwork  Penalty goals  Penalties not scored  ...  Clean Sheets  \\\n",
       "0              0              0                     0  ...             0   \n",
       "1              0              0                     0  ...             1   \n",
       "2              1              0                     0  ...             1   \n",
       "3              0              0                     0  ...             2   \n",
       "4              1              0                     0  ...             1   \n",
       "5              2              1                     0  ...             1   \n",
       "6              1              1                     1  ...             1   \n",
       "7              2              0                     0  ...             2   \n",
       "8              2              0                     0  ...             0   \n",
       "9              0              0                     0  ...             0   \n",
       "10             6              0                     0  ...             2   \n",
       "11             0              0                     0  ...             0   \n",
       "12             2              0                     0  ...             0   \n",
       "13             0              1                     0  ...             5   \n",
       "14             3              0                     0  ...             1   \n",
       "15             0              0                     0  ...             0   \n",
       "\n",
       "    Blocks  Goals conceded Saves made  Saves-to-shots ratio  Fouls Won  \\\n",
       "0       10               3         13                 81.3%         41   \n",
       "1       10               6          9                 60.1%         53   \n",
       "2       10               5         10                 66.7%         25   \n",
       "3       29               3         22                 88.1%         43   \n",
       "4        7               5          6                 54.6%         36   \n",
       "5       11               6         10                 62.6%         63   \n",
       "6       23               7         13                 65.1%         67   \n",
       "7       18               7         20                 74.1%        101   \n",
       "8        9               5         12                 70.6%         35   \n",
       "9        8               3          6                 66.7%         48   \n",
       "10      11               4         10                 71.5%         73   \n",
       "11      23               9         17                 65.4%         43   \n",
       "12       8               3         10                 77.0%         34   \n",
       "13       8               1         15                 93.8%        102   \n",
       "14      12               5          8                 61.6%         35   \n",
       "15       4               4         13                 76.5%         48   \n",
       "\n",
       "    Fouls Conceded  Offsides  Yellow Cards  Red Cards  \n",
       "0               62         2             9          0  \n",
       "1               73         8             7          0  \n",
       "2               38         8             4          0  \n",
       "3               45         6             5          0  \n",
       "4               51         5             6          0  \n",
       "5               49        12             4          0  \n",
       "6               48        12             9          1  \n",
       "7               89        16            16          0  \n",
       "8               30         3             5          0  \n",
       "9               56         3             7          1  \n",
       "10              90        10            12          0  \n",
       "11              51        11             6          1  \n",
       "12              43         4             6          0  \n",
       "13              83        19            11          0  \n",
       "14              51         7             7          0  \n",
       "15              31         4             5          0  \n",
       "\n",
       "[16 rows x 32 columns]"
      ]
     },
     "execution_count": 61,
     "metadata": {},
     "output_type": "execute_result"
    }
   ],
   "source": [
    "all_except_last_3 = euro12.iloc[:, :-3]\n",
    "all_except_last_3"
   ]
  },
  {
   "cell_type": "code",
   "execution_count": 63,
   "id": "bd9ab55c-863a-4102-b00b-f81124dd9c0a",
   "metadata": {},
   "outputs": [
    {
     "data": {
      "text/html": [
       "<div>\n",
       "<style scoped>\n",
       "    .dataframe tbody tr th:only-of-type {\n",
       "        vertical-align: middle;\n",
       "    }\n",
       "\n",
       "    .dataframe tbody tr th {\n",
       "        vertical-align: top;\n",
       "    }\n",
       "\n",
       "    .dataframe thead th {\n",
       "        text-align: right;\n",
       "    }\n",
       "</style>\n",
       "<table border=\"1\" class=\"dataframe\">\n",
       "  <thead>\n",
       "    <tr style=\"text-align: right;\">\n",
       "      <th></th>\n",
       "      <th>Team</th>\n",
       "      <th>Shooting Accuracy</th>\n",
       "    </tr>\n",
       "  </thead>\n",
       "  <tbody>\n",
       "    <tr>\n",
       "      <th>3</th>\n",
       "      <td>England</td>\n",
       "      <td>50.0%</td>\n",
       "    </tr>\n",
       "    <tr>\n",
       "      <th>7</th>\n",
       "      <td>Italy</td>\n",
       "      <td>43.0%</td>\n",
       "    </tr>\n",
       "    <tr>\n",
       "      <th>12</th>\n",
       "      <td>Russia</td>\n",
       "      <td>22.5%</td>\n",
       "    </tr>\n",
       "  </tbody>\n",
       "</table>\n",
       "</div>"
      ],
      "text/plain": [
       "       Team Shooting Accuracy\n",
       "3   England             50.0%\n",
       "7     Italy             43.0%\n",
       "12   Russia             22.5%"
      ]
     },
     "execution_count": 63,
     "metadata": {},
     "output_type": "execute_result"
    }
   ],
   "source": [
    "shooting_accuracy = euro12.loc[euro12['Team'].isin(['England', 'Italy', 'Russia']), ['Team', 'Shooting Accuracy']]\n",
    "shooting_accuracy"
   ]
  },
  {
   "cell_type": "markdown",
   "id": "2f22515a-2b6a-40b5-8d67-424333292eb1",
   "metadata": {},
   "source": []
  },
  {
   "cell_type": "code",
   "execution_count": null,
   "id": "93c4520b-623f-46ed-8eac-6e5c8108aef0",
   "metadata": {},
   "outputs": [],
   "source": []
  },
  {
   "cell_type": "code",
   "execution_count": null,
   "id": "7e4d2f2b-c645-4d4b-a323-ad1f0dbc8fd7",
   "metadata": {},
   "outputs": [],
   "source": []
  },
  {
   "cell_type": "markdown",
   "id": "9c27576d-dd3d-4d15-a584-d38bfc3544b9",
   "metadata": {},
   "source": [
    "Q3. Housing\n",
    "Step 1. Import the necessary libraries\n",
    "Step 2. Create 3 differents Series, each of length 100, as follows:\n",
    "• The first a random number from 1 to 4\n",
    "• The second a random number from 1 to 3\n",
    "• The third a random number from 10,000 to 30,000\n",
    "Step 3. Create a DataFrame by joinning the Series by column\n",
    "Step 4. Change the name of the columns to bedrs, bathrs, price_sqr_meter\n",
    "Step 5. Create a one column DataFrame with the values of the 3 Series and assign it\n",
    "to 'bigcolumn'\n",
    "Step 6. Ops it seems it is going only until index 99. Is it true?\n",
    "Step 7. Reindex the DataFrame so it goes from 0 to 299"
   ]
  },
  {
   "cell_type": "code",
   "execution_count": 94,
   "id": "60af5519-9bb6-473d-855c-6f1e5e6f4966",
   "metadata": {},
   "outputs": [
    {
     "name": "stdout",
     "output_type": "stream",
     "text": [
      "Series 1:\n",
      "0    3\n",
      "1    4\n",
      "2    4\n",
      "3    1\n",
      "4    3\n",
      "dtype: int32\n"
     ]
    }
   ],
   "source": [
    "series1 = pd.Series(np.random.randint(1, 5, 100)) #shows random integers from 1 to 4 length 100\n",
    "series2 = pd.Series(np.random.randint(1, 4, 100)) #shows random int from 1 to 4  length 100\n",
    "series3 = pd.Series(np.random.randint(10000, 30001, 100))  #shows random int from 10000 to 30001  length 100\n",
    "print(\"Series 1:\")\n",
    "print(series1.head())"
   ]
  },
  {
   "cell_type": "code",
   "execution_count": 96,
   "id": "2867a9ce-4499-46b4-9b78-8d6719e98430",
   "metadata": {},
   "outputs": [
    {
     "name": "stdout",
     "output_type": "stream",
     "text": [
      "\n",
      "Series 2:\n",
      "0    3\n",
      "1    2\n",
      "2    3\n",
      "3    3\n",
      "4    2\n",
      "dtype: int32\n"
     ]
    }
   ],
   "source": [
    "print(\"\\nSeries 2:\")\n",
    "print(series2.head())"
   ]
  },
  {
   "cell_type": "code",
   "execution_count": 98,
   "id": "1bc0b42c-1e97-4934-a918-905164f63ae4",
   "metadata": {},
   "outputs": [
    {
     "name": "stdout",
     "output_type": "stream",
     "text": [
      "\n",
      "Series 3:\n",
      "0    26629\n",
      "1    28045\n",
      "2    14565\n",
      "3    16880\n",
      "4    16591\n",
      "dtype: int32\n"
     ]
    }
   ],
   "source": [
    "print(\"\\nSeries 3:\")\n",
    "print(series3.head())"
   ]
  },
  {
   "cell_type": "code",
   "execution_count": 100,
   "id": "48c48740-aa85-49c8-a6b1-c9fc46ea9850",
   "metadata": {},
   "outputs": [
    {
     "name": "stdout",
     "output_type": "stream",
     "text": [
      "Combined DataFrame:\n",
      "   bedrs  bathrs  price_sqr_meter\n",
      "0      3       3            26629\n",
      "1      4       2            28045\n",
      "2      4       3            14565\n",
      "3      1       3            16880\n",
      "4      3       2            16591\n"
     ]
    }
   ],
   "source": [
    "df = pd.DataFrame({'bedrs': series1, 'bathrs': series2, 'price_sqr_meter': series3}) #Change the name of the columns to bedrs, bathrs, price_sqr_meter\n",
    "print(\"Combined DataFrame:\")  #Create a DataFrame by joinning the Series by column\n",
    "print(df.head())"
   ]
  },
  {
   "cell_type": "code",
   "execution_count": 104,
   "id": "d4bfb8a6-ed41-4610-9a1a-c2e09ec2f4ba",
   "metadata": {},
   "outputs": [
    {
     "name": "stdout",
     "output_type": "stream",
     "text": [
      "One-Column DataFrame:\n",
      "0    3\n",
      "1    4\n",
      "2    4\n",
      "3    1\n",
      "4    3\n",
      "dtype: int32\n"
     ]
    }
   ],
   "source": [
    "bigcolumn = pd.concat([series1, series2, series3], axis=0).reset_index(drop=True)\n",
    "print(\"One-Column DataFrame:\")\n",
    "print(bigcolumn.head()) #Displays the first few rows of one column data frame"
   ]
  },
  {
   "cell_type": "code",
   "execution_count": 108,
   "id": "06c772a2-38f4-49cb-9a0d-0aef2cf1135b",
   "metadata": {},
   "outputs": [
    {
     "name": "stdout",
     "output_type": "stream",
     "text": [
      "Length of bigcolumn: 300\n",
      "Reindexed DataFrame:\n",
      "295    27910\n",
      "296    23258\n",
      "297    19083\n",
      "298    22338\n",
      "299    25399\n",
      "dtype: int32\n"
     ]
    }
   ],
   "source": [
    "print(\"Length of bigcolumn:\", len(bigcolumn))\n",
    "bigcolumn_reindexed = bigcolumn.reset_index(drop=True).reindex(range(300)) #Reindex the DataFrame so it goes from 0 to 299\n",
    "print(\"Reindexed DataFrame:\")\n",
    "print(bigcolumn_reindexed.tail()) #Display output"
   ]
  },
  {
   "cell_type": "code",
   "execution_count": null,
   "id": "36061722-7a9a-4b31-89f9-1f7c74d4d2dd",
   "metadata": {},
   "outputs": [],
   "source": []
  },
  {
   "cell_type": "code",
   "execution_count": null,
   "id": "66c6af3c-2288-4685-9cfa-3adf70b86088",
   "metadata": {},
   "outputs": [],
   "source": []
  },
  {
   "cell_type": "code",
   "execution_count": null,
   "id": "1d0229bb-1641-4dff-b31e-7cc79ce86a49",
   "metadata": {},
   "outputs": [],
   "source": []
  },
  {
   "cell_type": "markdown",
   "id": "10a59564-1ee0-4875-8213-bc3d826f0338",
   "metadata": {},
   "source": [
    "Q4. Wind Statistics\n",
    "The data have been modified to contain some missing values, identified by NaN.\n",
    "Using pandas should make this exercise easier, in particular for the bonus question.\n",
    "You should be able to perform all of these operations without using a for loop or\n",
    "other looping construct.\n",
    "The data in 'wind.data' has the following format:\n",
    "66. The first three columns are year, month, and day. The remaining 12 columns are\n",
    "average windspeeds in knots at 12 locations in Ireland on that day"
   ]
  },
  {
   "cell_type": "code",
   "execution_count": 222,
   "id": "f4bc8627-cd20-44d2-8d3b-834e8897fdfd",
   "metadata": {},
   "outputs": [],
   "source": [
    "import pandas as pd\n",
    "import numpy as np"
   ]
  },
  {
   "cell_type": "code",
   "execution_count": 260,
   "id": "485527bb-1c1e-4e5a-9a09-fc441a0cad19",
   "metadata": {},
   "outputs": [],
   "source": [
    "file_path = 'C:/Users/200608816/Desktop/a/wind.txt'"
   ]
  },
  {
   "cell_type": "code",
   "execution_count": 262,
   "id": "b6c614e8-5766-4f92-9036-c625094be3e8",
   "metadata": {},
   "outputs": [
    {
     "name": "stderr",
     "output_type": "stream",
     "text": [
      "<>:1: SyntaxWarning: invalid escape sequence '\\s'\n",
      "<>:1: SyntaxWarning: invalid escape sequence '\\s'\n",
      "C:\\Users\\200608816\\AppData\\Local\\Temp\\ipykernel_19256\\3216932379.py:1: SyntaxWarning: invalid escape sequence '\\s'\n",
      "  data = pd.read_csv(file_path, sep='\\s+')\n"
     ]
    }
   ],
   "source": [
    "data = pd.read_csv(file_path, sep='\\s+')"
   ]
  },
  {
   "cell_type": "code",
   "execution_count": 264,
   "id": "14038889-287e-4579-83d8-457caa1efb0b",
   "metadata": {},
   "outputs": [
    {
     "name": "stdout",
     "output_type": "stream",
     "text": [
      "   Yr  Mo  Dy    RPT    VAL    ROS    KIL    SHA   BIR    DUB    CLA    MUL  \\\n",
      "0  61   1   1  15.04  14.96  13.17   9.29    NaN  9.87  13.67  10.25  10.83   \n",
      "1  61   1   2  14.71    NaN  10.83   6.50  12.62  7.67  11.50  10.04   9.79   \n",
      "2  61   1   3  18.50  16.88  12.33  10.13  11.17  6.17  11.25    NaN   8.50   \n",
      "\n",
      "     CLO    BEL    MAL  \n",
      "0  12.58  18.50  15.04  \n",
      "1   9.67  17.54  13.83  \n",
      "2   7.67  12.75  12.71  \n"
     ]
    }
   ],
   "source": [
    "print(data.head())"
   ]
  },
  {
   "cell_type": "code",
   "execution_count": 266,
   "id": "528f90be-5c35-437b-84ee-d1f672f61e6a",
   "metadata": {},
   "outputs": [
    {
     "name": "stderr",
     "output_type": "stream",
     "text": [
      "C:\\Users\\200608816\\AppData\\Local\\Temp\\ipykernel_19256\\723023670.py:1: UserWarning: Could not infer format, so each element will be parsed individually, falling back to `dateutil`. To ensure parsing is consistent and as-expected, please specify a format.\n",
      "  data['Date'] = pd.to_datetime(data[['Yr','Mo','Dy']].astype(str).agg('-'.join,axis=1))\n"
     ]
    },
    {
     "data": {
      "text/html": [
       "<div>\n",
       "<style scoped>\n",
       "    .dataframe tbody tr th:only-of-type {\n",
       "        vertical-align: middle;\n",
       "    }\n",
       "\n",
       "    .dataframe tbody tr th {\n",
       "        vertical-align: top;\n",
       "    }\n",
       "\n",
       "    .dataframe thead th {\n",
       "        text-align: right;\n",
       "    }\n",
       "</style>\n",
       "<table border=\"1\" class=\"dataframe\">\n",
       "  <thead>\n",
       "    <tr style=\"text-align: right;\">\n",
       "      <th></th>\n",
       "      <th>RPT</th>\n",
       "      <th>VAL</th>\n",
       "      <th>ROS</th>\n",
       "      <th>KIL</th>\n",
       "      <th>SHA</th>\n",
       "      <th>BIR</th>\n",
       "      <th>DUB</th>\n",
       "      <th>CLA</th>\n",
       "      <th>MUL</th>\n",
       "      <th>CLO</th>\n",
       "      <th>BEL</th>\n",
       "      <th>MAL</th>\n",
       "    </tr>\n",
       "    <tr>\n",
       "      <th>Date</th>\n",
       "      <th></th>\n",
       "      <th></th>\n",
       "      <th></th>\n",
       "      <th></th>\n",
       "      <th></th>\n",
       "      <th></th>\n",
       "      <th></th>\n",
       "      <th></th>\n",
       "      <th></th>\n",
       "      <th></th>\n",
       "      <th></th>\n",
       "      <th></th>\n",
       "    </tr>\n",
       "  </thead>\n",
       "  <tbody>\n",
       "    <tr>\n",
       "      <th>2061-01-01</th>\n",
       "      <td>15.04</td>\n",
       "      <td>14.96</td>\n",
       "      <td>13.17</td>\n",
       "      <td>9.29</td>\n",
       "      <td>NaN</td>\n",
       "      <td>9.87</td>\n",
       "      <td>13.67</td>\n",
       "      <td>10.25</td>\n",
       "      <td>10.83</td>\n",
       "      <td>12.58</td>\n",
       "      <td>18.50</td>\n",
       "      <td>15.04</td>\n",
       "    </tr>\n",
       "    <tr>\n",
       "      <th>2061-01-02</th>\n",
       "      <td>14.71</td>\n",
       "      <td>NaN</td>\n",
       "      <td>10.83</td>\n",
       "      <td>6.50</td>\n",
       "      <td>12.62</td>\n",
       "      <td>7.67</td>\n",
       "      <td>11.50</td>\n",
       "      <td>10.04</td>\n",
       "      <td>9.79</td>\n",
       "      <td>9.67</td>\n",
       "      <td>17.54</td>\n",
       "      <td>13.83</td>\n",
       "    </tr>\n",
       "    <tr>\n",
       "      <th>2061-01-03</th>\n",
       "      <td>18.50</td>\n",
       "      <td>16.88</td>\n",
       "      <td>12.33</td>\n",
       "      <td>10.13</td>\n",
       "      <td>11.17</td>\n",
       "      <td>6.17</td>\n",
       "      <td>11.25</td>\n",
       "      <td>NaN</td>\n",
       "      <td>8.50</td>\n",
       "      <td>7.67</td>\n",
       "      <td>12.75</td>\n",
       "      <td>12.71</td>\n",
       "    </tr>\n",
       "  </tbody>\n",
       "</table>\n",
       "</div>"
      ],
      "text/plain": [
       "              RPT    VAL    ROS    KIL    SHA   BIR    DUB    CLA    MUL  \\\n",
       "Date                                                                       \n",
       "2061-01-01  15.04  14.96  13.17   9.29    NaN  9.87  13.67  10.25  10.83   \n",
       "2061-01-02  14.71    NaN  10.83   6.50  12.62  7.67  11.50  10.04   9.79   \n",
       "2061-01-03  18.50  16.88  12.33  10.13  11.17  6.17  11.25    NaN   8.50   \n",
       "\n",
       "              CLO    BEL    MAL  \n",
       "Date                             \n",
       "2061-01-01  12.58  18.50  15.04  \n",
       "2061-01-02   9.67  17.54  13.83  \n",
       "2061-01-03   7.67  12.75  12.71  "
      ]
     },
     "execution_count": 266,
     "metadata": {},
     "output_type": "execute_result"
    }
   ],
   "source": [
    "\n",
    "data['Date'] = pd.to_datetime(data[['Yr','Mo','Dy']].astype(str).agg('-'.join,axis=1))\n",
    "data=data.set_index('Date')\n",
    "data = data.drop(['Yr','Mo','Dy'],axis=1)\n",
    "data"
   ]
  },
  {
   "cell_type": "code",
   "execution_count": 270,
   "id": "4188d038-ce8f-41f2-a7a8-f717865b09c4",
   "metadata": {},
   "outputs": [
    {
     "name": "stdout",
     "output_type": "stream",
     "text": [
      "Missing values per location are:\n",
      " RPT    0\n",
      "VAL    1\n",
      "ROS    0\n",
      "KIL    0\n",
      "SHA    1\n",
      "BIR    0\n",
      "DUB    0\n",
      "CLA    1\n",
      "MUL    0\n",
      "CLO    0\n",
      "BEL    0\n",
      "MAL    0\n",
      "dtype: int64\n"
     ]
    }
   ],
   "source": [
    "missing_values = data.isna().sum()\n",
    "print(\"Missing values per location are:\\n\", missing_values)"
   ]
  },
  {
   "cell_type": "code",
   "execution_count": 272,
   "id": "e38e1e06-9791-4c8e-ad10-f516bc8758be",
   "metadata": {},
   "outputs": [
    {
     "name": "stdout",
     "output_type": "stream",
     "text": [
      "Total non-missing values are: 33\n"
     ]
    }
   ],
   "source": [
    "non_missing_total = data.count().sum()\n",
    "\n",
    "print(\"Total non-missing values are:\", non_missing_total)"
   ]
  },
  {
   "cell_type": "code",
   "execution_count": 274,
   "id": "a6b7f621-976a-40f5-bf24-1f0f8f78626a",
   "metadata": {},
   "outputs": [
    {
     "name": "stdout",
     "output_type": "stream",
     "text": [
      "Overall mean wind speed are 12.053333333333333\n"
     ]
    }
   ],
   "source": [
    "overall_mean = data.mean().mean()\n",
    "\n",
    "print(\"Overall mean wind speed are\", overall_mean)"
   ]
  },
  {
   "cell_type": "code",
   "execution_count": 276,
   "id": "e1630f91-728e-4beb-880e-955b2b49e5f4",
   "metadata": {},
   "outputs": [
    {
     "name": "stdout",
     "output_type": "stream",
     "text": [
      "Location statistics are as follows here:\n",
      "             RPT        VAL        ROS        KIL        SHA       BIR  \\\n",
      "min   14.710000  14.960000  10.830000   6.500000  11.170000  6.170000   \n",
      "max   18.500000  16.880000  13.170000  10.130000  12.620000  9.870000   \n",
      "mean  16.083333  15.920000  12.110000   8.640000  11.895000  7.903333   \n",
      "std    2.099389   1.357645   1.185411   1.900289   1.025305  1.861003   \n",
      "\n",
      "            DUB        CLA        MUL        CLO        BEL       MAL  \n",
      "min   11.250000  10.040000   8.500000   7.670000  12.750000  12.71000  \n",
      "max   13.670000  10.250000  10.830000  12.580000  18.500000  15.04000  \n",
      "mean  12.140000  10.145000   9.706667   9.973333  16.263333  13.86000  \n",
      "std    1.330902   0.148492   1.167233   2.469015   3.080265   1.16529  \n"
     ]
    }
   ],
   "source": [
    "# Generate statistics (min, max, mean, std) for each location\n",
    "loc_stats = data.describe().loc[['min', 'max', 'mean',   'std']]\n",
    "print(\"Location statistics are as follows here:\\n\", loc_stats)"
   ]
  },
  {
   "cell_type": "code",
   "execution_count": 278,
   "id": "fe5ccf1d-52b0-41ec-a783-b012e12f2ab4",
   "metadata": {},
   "outputs": [
    {
     "name": "stdout",
     "output_type": "stream",
     "text": [
      "Daily statistics are as follows here:\n",
      "              min    max       mean       std\n",
      "Date                                        \n",
      "2061-01-01  9.29  18.50  13.018182  2.808875\n",
      "2061-01-02  6.50  17.54  11.336364  3.188994\n",
      "2061-01-03  6.17  18.50  11.641818  3.681912\n"
     ]
    }
   ],
   "source": [
    "day_stats = data.aggregate(['min', 'max', 'mean', 'std'], axis=1)\n",
    "print(\"Daily statistics are as follows here:\\n\", day_stats.head())"
   ]
  },
  {
   "cell_type": "code",
   "execution_count": null,
   "id": "f6fa3b33-5c9e-46cd-a85e-7da07f5d95e8",
   "metadata": {},
   "outputs": [],
   "source": []
  },
  {
   "cell_type": "code",
   "execution_count": null,
   "id": "e5c677fc-8277-41f0-8eef-65ccd7321fb0",
   "metadata": {},
   "outputs": [],
   "source": []
  },
  {
   "cell_type": "code",
   "execution_count": null,
   "id": "f687d455-c781-4006-8cb1-15b549a2e195",
   "metadata": {},
   "outputs": [],
   "source": []
  },
  {
   "cell_type": "code",
   "execution_count": null,
   "id": "6cab603c-2c51-4eb7-8af2-bfc3f51a1b01",
   "metadata": {},
   "outputs": [],
   "source": []
  },
  {
   "cell_type": "markdown",
   "id": "0924479a-36c2-48e8-aadb-6716c3ae70c4",
   "metadata": {},
   "source": [
    "Q5. Step 1. Import the necessary libraries\n",
    "Step 2. Import the dataset from this address.\n",
    "Step 3. Assign it to a variable called chipo.\n",
    "Step 4. See the first 10 entries\n",
    "Step 5. What is the number of observations in the dataset?\n",
    "Step 6. What is the number of columns in the dataset?\n",
    "Step 7. Print the name of all the columns.\n",
    "Step 8. How is the dataset indexed?\n",
    "Step 9. Which was the most-ordered item?\n",
    "Step 10. For the most-ordered item, how many items were ordered?\n",
    "Step 11. What was the most ordered item in the choice_description column?\n",
    "Step 12. How many items were orderd in total?\n",
    "Step 13.\n",
    "• Turn the item price into a float\n",
    "• Check the item price type\n",
    "• Create a lambda function and change the type of item price\n",
    "• Check the item price type\n",
    "Step 14. How much was the revenue for the period in the dataset?\n",
    "Step 15. How many orders were made in the period?\n",
    "Step 16. What is the average revenue amount per order?\n",
    "Step 17. How many different items are sold?"
   ]
  },
  {
   "cell_type": "code",
   "execution_count": 128,
   "id": "4d46ac28-5bbc-41a6-a115-fbee1bae24bb",
   "metadata": {},
   "outputs": [
    {
     "name": "stdout",
     "output_type": "stream",
     "text": [
      "   order_id  quantity                              item_name  \\\n",
      "0         1         1           Chips and Fresh Tomato Salsa   \n",
      "1         1         1                                   Izze   \n",
      "2         1         1                       Nantucket Nectar   \n",
      "3         1         1  Chips and Tomatillo-Green Chili Salsa   \n",
      "4         2         2                           Chicken Bowl   \n",
      "\n",
      "                                  choice_description item_price  \n",
      "0                                                NaN     $2.39   \n",
      "1                                       [Clementine]     $3.39   \n",
      "2                                            [Apple]     $3.39   \n",
      "3                                                NaN     $2.39   \n",
      "4  [Tomatillo-Red Chili Salsa (Hot), [Black Beans...    $16.98   \n"
     ]
    }
   ],
   "source": [
    "url = 'https://raw.githubusercontent.com/justmarkham/DAT8/master/data/chipotle.tsv'\n",
    "chipo = pd.read_csv(url, sep='\\t')\n",
    "print(chipo.head())"
   ]
  },
  {
   "cell_type": "code",
   "execution_count": 130,
   "id": "b96a161c-d31f-444d-8e3c-bf2e3a264ab2",
   "metadata": {},
   "outputs": [
    {
     "name": "stdout",
     "output_type": "stream",
     "text": [
      "   order_id  quantity                              item_name  \\\n",
      "0         1         1           Chips and Fresh Tomato Salsa   \n",
      "1         1         1                                   Izze   \n",
      "2         1         1                       Nantucket Nectar   \n",
      "3         1         1  Chips and Tomatillo-Green Chili Salsa   \n",
      "4         2         2                           Chicken Bowl   \n",
      "5         3         1                           Chicken Bowl   \n",
      "6         3         1                          Side of Chips   \n",
      "7         4         1                          Steak Burrito   \n",
      "8         4         1                       Steak Soft Tacos   \n",
      "9         5         1                          Steak Burrito   \n",
      "\n",
      "                                  choice_description item_price  \n",
      "0                                                NaN     $2.39   \n",
      "1                                       [Clementine]     $3.39   \n",
      "2                                            [Apple]     $3.39   \n",
      "3                                                NaN     $2.39   \n",
      "4  [Tomatillo-Red Chili Salsa (Hot), [Black Beans...    $16.98   \n",
      "5  [Fresh Tomato Salsa (Mild), [Rice, Cheese, Sou...    $10.98   \n",
      "6                                                NaN     $1.69   \n",
      "7  [Tomatillo Red Chili Salsa, [Fajita Vegetables...    $11.75   \n",
      "8  [Tomatillo Green Chili Salsa, [Pinto Beans, Ch...     $9.25   \n",
      "9  [Fresh Tomato Salsa, [Rice, Black Beans, Pinto...     $9.25   \n"
     ]
    }
   ],
   "source": [
    "print(chipo.head(10))"
   ]
  },
  {
   "cell_type": "code",
   "execution_count": 134,
   "id": "b50a273a-1550-4315-bb8f-7c111d1a4080",
   "metadata": {},
   "outputs": [
    {
     "name": "stdout",
     "output_type": "stream",
     "text": [
      "The Number of observations in the dataset are: 4622\n",
      "Number of columns in the dataset: 5\n"
     ]
    }
   ],
   "source": [
    "num_observations = chipo.shape[0]\n",
    "print(f\"The Number of observations in the dataset are: {num_observations}\")\n",
    "num_columns = chipo.shape[1]                                                 #We get the number of columns in the dataset\n",
    "print(f\"Number of columns in the dataset: {num_columns}\")\n"
   ]
  },
  {
   "cell_type": "code",
   "execution_count": 136,
   "id": "fbb2a9a3-e2c9-4f85-b44b-7dcfa0cf6c7a",
   "metadata": {},
   "outputs": [
    {
     "name": "stdout",
     "output_type": "stream",
     "text": [
      " The Column names in the dataset are: Index(['order_id', 'quantity', 'item_name', 'choice_description',\n",
      "       'item_price'],\n",
      "      dtype='object')\n"
     ]
    }
   ],
   "source": [
    "print(f\" The Column names in the dataset are: {chipo.columns}\")"
   ]
  },
  {
   "cell_type": "code",
   "execution_count": 138,
   "id": "a331745a-45b7-40f0-a856-d15d8df45ebb",
   "metadata": {},
   "outputs": [
    {
     "name": "stdout",
     "output_type": "stream",
     "text": [
      "Dataset Index: RangeIndex(start=0, stop=4622, step=1)\n"
     ]
    }
   ],
   "source": [
    "print(f\"Dataset Index: {chipo.index}\")"
   ]
  },
  {
   "cell_type": "code",
   "execution_count": 142,
   "id": "100c2f65-c7c4-4dc5-a774-ed039aed7ce8",
   "metadata": {},
   "outputs": [
    {
     "name": "stdout",
     "output_type": "stream",
     "text": [
      "The most ordered item is: Chicken Bowl\n"
     ]
    }
   ],
   "source": [
    "most_ordered_item = chipo['item_name'].value_counts().idxmax()\n",
    "print(f\"The most ordered item is: {most_ordered_item}\")"
   ]
  },
  {
   "cell_type": "code",
   "execution_count": 144,
   "id": "93ff3f5b-c1aa-4611-922f-7b29c87d6a1c",
   "metadata": {},
   "outputs": [
    {
     "name": "stdout",
     "output_type": "stream",
     "text": [
      "The Total quantity of 'Chicken Bowl' ordered is: 761\n"
     ]
    }
   ],
   "source": [
    "most_ordered_quantity = chipo[chipo['item_name'] == most_ordered_item]['quantity'].sum() #Getting the total quantity of the most-ordered item\n",
    "print(f\"The Total quantity of '{most_ordered_item}' ordered is: {most_ordered_quantity}\") #This displays the result"
   ]
  },
  {
   "cell_type": "code",
   "execution_count": 146,
   "id": "32dcf652-452d-4f94-9506-46c08cb21e50",
   "metadata": {},
   "outputs": [
    {
     "name": "stdout",
     "output_type": "stream",
     "text": [
      "The most ordered choice_description is are: [Diet Coke]\n"
     ]
    }
   ],
   "source": [
    "most_ordered_choice_description = chipo['choice_description'].value_counts().idxmax() #This finds the most-ordered item in the choice description column\n",
    "print(f\"The most ordered choice_description is are: {most_ordered_choice_description}\") #This displays the result."
   ]
  },
  {
   "cell_type": "code",
   "execution_count": 148,
   "id": "e3ea8292-0eaf-4c59-b1ed-241f1aa61dd2",
   "metadata": {},
   "outputs": [
    {
     "name": "stdout",
     "output_type": "stream",
     "text": [
      "Total number of items ordered: 4972\n"
     ]
    }
   ],
   "source": [
    "total_items_ordered = chipo['quantity'].sum() #Calculates total number of items ordered\n",
    "print(f\"Total number of items ordered: {total_items_ordered}\") #This displays the result"
   ]
  },
  {
   "cell_type": "code",
   "execution_count": 154,
   "id": "5bb389c6-7795-4bc9-bad6-9bbddea28086",
   "metadata": {},
   "outputs": [
    {
     "name": "stdout",
     "output_type": "stream",
     "text": [
      "   order_id  quantity                              item_name  \\\n",
      "0         1         1           Chips and Fresh Tomato Salsa   \n",
      "1         1         1                                   Izze   \n",
      "2         1         1                       Nantucket Nectar   \n",
      "3         1         1  Chips and Tomatillo-Green Chili Salsa   \n",
      "4         2         2                           Chicken Bowl   \n",
      "\n",
      "                                  choice_description  item_price  \n",
      "0                                                NaN        2.39  \n",
      "1                                       [Clementine]        3.39  \n",
      "2                                            [Apple]        3.39  \n",
      "3                                                NaN        2.39  \n",
      "4  [Tomatillo-Red Chili Salsa (Hot), [Black Beans...       16.98  \n"
     ]
    }
   ],
   "source": [
    "chipo['item_price'] = chipo['item_price'].replace({'$': ''}, regex=True).astype(float)\n",
    "print(chipo.head()) #Displays the first few rows to confirm the conversion"
   ]
  },
  {
   "cell_type": "code",
   "execution_count": 156,
   "id": "1c6dd2c7-a16c-4f57-b50c-62e47614cdaf",
   "metadata": {},
   "outputs": [
    {
     "name": "stdout",
     "output_type": "stream",
     "text": [
      "The Data type of 'item_price'is: float64\n"
     ]
    }
   ],
   "source": [
    "print(f\"The Data type of 'item_price'is: {chipo['item_price'].dtype}\")"
   ]
  },
  {
   "cell_type": "code",
   "execution_count": 158,
   "id": "fc6b5a22-77d5-40d3-96c7-881f52c04902",
   "metadata": {},
   "outputs": [
    {
     "name": "stdout",
     "output_type": "stream",
     "text": [
      "   order_id  quantity                              item_name  \\\n",
      "0         1         1           Chips and Fresh Tomato Salsa   \n",
      "1         1         1                                   Izze   \n",
      "2         1         1                       Nantucket Nectar   \n",
      "3         1         1  Chips and Tomatillo-Green Chili Salsa   \n",
      "4         2         2                           Chicken Bowl   \n",
      "\n",
      "                                  choice_description  item_price  \n",
      "0                                                NaN        2.39  \n",
      "1                                       [Clementine]        3.39  \n",
      "2                                            [Apple]        3.39  \n",
      "3                                                NaN        2.39  \n",
      "4  [Tomatillo-Red Chili Salsa (Hot), [Black Beans...       16.98  \n"
     ]
    }
   ],
   "source": [
    "chipo['item_price'] = chipo['item_price'].apply(lambda x: float(str(x).replace('$', '')))\n",
    "print(chipo.head())"
   ]
  },
  {
   "cell_type": "code",
   "execution_count": 160,
   "id": "ee272e62-4f4a-4a50-9b1b-eabb3f4fde4f",
   "metadata": {},
   "outputs": [
    {
     "name": "stdout",
     "output_type": "stream",
     "text": [
      "Total revenue for the period: $39237.02\n"
     ]
    }
   ],
   "source": [
    "chipo['revenue'] = chipo['item_price'] * chipo['quantity'] #Calculating the total revenue\n",
    "total_revenue = chipo['revenue'].sum() #Calculating total revenue fo rthe period\n",
    "print(f\"Total revenue for the period: ${total_revenue:.2f}\")"
   ]
  },
  {
   "cell_type": "code",
   "execution_count": 162,
   "id": "e7e5b006-6243-4551-881e-a9f7627cc2ac",
   "metadata": {},
   "outputs": [
    {
     "name": "stdout",
     "output_type": "stream",
     "text": [
      "Total number of orders: 1834\n"
     ]
    }
   ],
   "source": [
    "total_orders = chipo['order_id'].nunique() #Counting the number of unique orders\n",
    "print(f\"Total number of orders: {total_orders}\") #This displays the result"
   ]
  },
  {
   "cell_type": "markdown",
   "id": "56c0956e-c3d8-4164-8719-e3184bd613f9",
   "metadata": {},
   "source": []
  },
  {
   "cell_type": "markdown",
   "id": "f617d16e-645b-46e7-bdc4-80e7e0b641d1",
   "metadata": {},
   "source": []
  },
  {
   "cell_type": "code",
   "execution_count": null,
   "id": "43db576c-2cdb-4b99-b021-930a24fe1f93",
   "metadata": {},
   "outputs": [],
   "source": []
  },
  {
   "cell_type": "markdown",
   "id": "e9cb0ffb-0941-4d09-aebe-f8e322efe47c",
   "metadata": {},
   "source": [
    "Q6. Create a line plot showing the number of marriages and divorces per capita in the\n",
    "U.S. between 1867 and 2014. Label both lines and show the legend.\n",
    "Don't forget to label your axes"
   ]
  },
  {
   "cell_type": "code",
   "execution_count": 194,
   "id": "d94477b5-be61-4d00-bc64-9495c6628d12",
   "metadata": {},
   "outputs": [],
   "source": [
    "import matplotlib.pyplot"
   ]
  },
  {
   "cell_type": "code",
   "execution_count": 168,
   "id": "d60e6017-105c-4fba-8b32-d1fe9a3afb0a",
   "metadata": {},
   "outputs": [],
   "source": [
    "file_path = 'C:/Users/200608816/Desktop/a/us-marriages-divorces-1867-2014.csv'"
   ]
  },
  {
   "cell_type": "code",
   "execution_count": 170,
   "id": "da59549d-8f5f-4195-8815-f65d2947c50f",
   "metadata": {},
   "outputs": [],
   "source": [
    "data = pd.read_csv(file_path)"
   ]
  },
  {
   "cell_type": "code",
   "execution_count": 172,
   "id": "99bbbd96-d1b6-45ad-a98d-efa65259adb1",
   "metadata": {},
   "outputs": [
    {
     "name": "stdout",
     "output_type": "stream",
     "text": [
      "   Year  Marriages  Divorces  Population  Marriages_per_1000  \\\n",
      "0  1867   357000.0   10000.0    36970000                 9.7   \n",
      "1  1868   345000.0   10000.0    37885000                 9.1   \n",
      "2  1869   348000.0   11000.0    38870000                 9.0   \n",
      "3  1870   352000.0   11000.0    39905000                 8.8   \n",
      "4  1871   359000.0   12000.0    41010000                 8.8   \n",
      "\n",
      "   Divorces_per_1000  \n",
      "0                0.3  \n",
      "1                0.3  \n",
      "2                0.3  \n",
      "3                0.3  \n",
      "4                0.3  \n"
     ]
    }
   ],
   "source": [
    "print(data.head())"
   ]
  },
  {
   "cell_type": "code",
   "execution_count": 188,
   "id": "80ab168e-de8f-451c-a4ce-0dc8ccd4e2f8",
   "metadata": {},
   "outputs": [],
   "source": [
    "data['Marriages_per_capita'] = data['Marriages']/data['Population']\n",
    "data['Divorces_per_capita'] =data['Divorces']/data['Population']"
   ]
  },
  {
   "cell_type": "code",
   "execution_count": 200,
   "id": "c6eebbe6-7c05-453f-8ab3-d71778b76913",
   "metadata": {},
   "outputs": [
    {
     "data": {
      "image/png": "[encoded data removed]",
      "text/plain": [
       "<Figure size 1000x600 with 1 Axes>"
      ]
     },
     "metadata": {},
     "output_type": "display_data"
    }
   ],
   "source": [
    "plt.figure(figsize=(10,6))\n",
    "plt.plot(data['Year'],data['Marriages_per_capita'], label ='Marriage Per Capita')\n",
    "plt.plot(data['Year'],data['Divorces_per_capita'],label ='Divorces Per Capita')\n",
    "plt.xlabel('Year')\n",
    "plt.ylabel('Per Capita')\n",
    "plt.title('Numbers of Marriages and Divorces per capita in the US (1867-2014)')\n",
    "plt.legend()\n",
    "plt.show()\n"
   ]
  },
  {
   "cell_type": "code",
   "execution_count": null,
   "id": "38b74314-f786-47f6-b022-568f7a49df51",
   "metadata": {},
   "outputs": [],
   "source": []
  },
  {
   "cell_type": "code",
   "execution_count": null,
   "id": "0c26475d-63cc-4c7d-ab36-b873e1e9d44e",
   "metadata": {},
   "outputs": [],
   "source": []
  },
  {
   "cell_type": "code",
   "execution_count": null,
   "id": "ae371e9b-0c92-4197-b8ea-0adf26e3f78d",
   "metadata": {},
   "outputs": [],
   "source": []
  },
  {
   "cell_type": "markdown",
   "id": "a4d41073-b888-4210-9b81-c04fe029cac4",
   "metadata": {},
   "source": [
    "Q7. Create a vertical bar chart comparing the number of marriages and divorces per\n",
    "capita in the U.S. between 1900, 1950, and 2000.\n",
    "Don't forget to label your axes!"
   ]
  },
  {
   "cell_type": "code",
   "execution_count": 290,
   "id": "eb031191-9e48-4070-ae43-6b031ddda0fb",
   "metadata": {},
   "outputs": [],
   "source": [
    "file_path = 'C:/Users/200608816/Desktop/a/us-marriages-divorces-1867-2014.csv'"
   ]
  },
  {
   "cell_type": "code",
   "execution_count": 292,
   "id": "d9631905-dcd4-415c-8616-b154803d140b",
   "metadata": {},
   "outputs": [
    {
     "name": "stdout",
     "output_type": "stream",
     "text": [
      "   Year  Marriages  Divorces  Population  Marriages_per_1000  \\\n",
      "0  1867   357000.0   10000.0    36970000                 9.7   \n",
      "1  1868   345000.0   10000.0    37885000                 9.1   \n",
      "2  1869   348000.0   11000.0    38870000                 9.0   \n",
      "3  1870   352000.0   11000.0    39905000                 8.8   \n",
      "4  1871   359000.0   12000.0    41010000                 8.8   \n",
      "\n",
      "   Divorces_per_1000  \n",
      "0                0.3  \n",
      "1                0.3  \n",
      "2                0.3  \n",
      "3                0.3  \n",
      "4                0.3  \n"
     ]
    }
   ],
   "source": [
    "data = pd.read_csv(file_path) #Reads the dataset\n",
    "print(data.head())"
   ]
  },
  {
   "cell_type": "code",
   "execution_count": 294,
   "id": "843ae561-543b-4e45-89ea-42f8f5f65618",
   "metadata": {},
   "outputs": [
    {
     "name": "stdout",
     "output_type": "stream",
     "text": [
      "     Year  Marriages  Divorces  Population  Marriages_per_1000  \\\n",
      "33   1900   709000.0   56000.0    76094000                 9.3   \n",
      "83   1950  1667000.0  385000.0   151684000                11.0   \n",
      "133  2000  2315000.0  944000.0   282398000                 8.2   \n",
      "\n",
      "     Divorces_per_1000  \n",
      "33                 0.7  \n",
      "83                 2.5  \n",
      "133                3.3  \n"
     ]
    }
   ],
   "source": [
    "filtered_data = data[data['Year'].isin([1900, 1950, 2000])] #Filtering data for the specific years as we need \n",
    "print(filtered_data) #Displays the specific years we filtered through the dataset"
   ]
  },
  {
   "cell_type": "code",
   "execution_count": 296,
   "id": "c2f2cf90-2c89-4678-afc5-55e174c77398",
   "metadata": {},
   "outputs": [],
   "source": [
    "bar_width = 5.5"
   ]
  },
  {
   "cell_type": "code",
   "execution_count": 298,
   "id": "680ffecf-b978-439b-9c8f-6e6a973d2fa1",
   "metadata": {},
   "outputs": [
    {
     "data": {
      "image/png": "[encoded data removed]",
      "text/plain": [
       "<Figure size 1000x600 with 1 Axes>"
      ]
     },
     "metadata": {},
     "output_type": "display_data"
    }
   ],
   "source": [
    "x = filtered_data['Year']\n",
    "x_positions_marriages = x - bar_width / 2\n",
    "x_positions_divorces = x + bar_width / 2\n",
    "\n",
    "# Create the plot\n",
    "\n",
    "plt.figure(figsize=(10, 6))\n",
    "\n",
    "# Add bars for marriages\n",
    "\n",
    "plt.bar(x_positions_marriages, filtered_data['Marriages_per_1000'], width=bar_width, label='Marriages per 1000', color='green')\n",
    "\n",
    "\n",
    "# Add bars for divorces\n",
    "\n",
    "plt.bar(x_positions_divorces, filtered_data['Divorces_per_1000'], width=bar_width, label='Divorces per 1000', color='red')\n",
    "\n",
    "# Add labels, title, and legend\n",
    "\n",
    "plt.xlabel('Year', fontsize=12)\n",
    "plt.ylabel('Number per 1000 People', fontsize=12)\n",
    "plt.title('Marriages and Divorces per Capita (1900, 1950, 2000)', fontsize=14)\n",
    "plt.xticks(x)\n",
    "plt.legend()\n",
    "plt.grid(axis='y', alpha=0.5)\n",
    "plt.tight_layout()\n",
    "\n",
    "# Show the plot\n",
    "\n",
    "plt.show()"
   ]
  },
  {
   "cell_type": "code",
   "execution_count": null,
   "id": "3c93d020-5b32-4baa-b0c2-e2e3a3ad7d48",
   "metadata": {},
   "outputs": [],
   "source": []
  },
  {
   "cell_type": "code",
   "execution_count": null,
   "id": "bd006afe-e4a7-4cc6-b43f-fe08a3c0e859",
   "metadata": {},
   "outputs": [],
   "source": []
  },
  {
   "cell_type": "code",
   "execution_count": null,
   "id": "4e6cce06-ac18-4caf-8521-9dacf4b87504",
   "metadata": {},
   "outputs": [],
   "source": []
  },
  {
   "cell_type": "markdown",
   "id": "403e385a-9bb4-4da0-9a36-3a46bda0183a",
   "metadata": {},
   "source": [
    "Q8. Create a horizontal bar chart that compares the deadliest actors in Hollywood. Sort\n",
    "the actors by their kill count and label each bar with the corresponding actor's name.\n",
    "Don't forget to label your axes"
   ]
  },
  {
   "cell_type": "code",
   "execution_count": 325,
   "id": "5eec1d75-55d7-4b89-abfc-981a58e03a5e",
   "metadata": {},
   "outputs": [],
   "source": [
    "file_path = 'C:/Users/200608816/Desktop/a/actor_kill_counts.csv'"
   ]
  },
  {
   "cell_type": "code",
   "execution_count": 329,
   "id": "cb47810f-c30c-4d39-977c-ad3752ff581b",
   "metadata": {},
   "outputs": [
    {
     "name": "stdout",
     "output_type": "stream",
     "text": [
      "                   Actor  Count\n",
      "0  Arnold Schwarzenegger    369\n",
      "1           Chow Yun-Fat    295\n",
      "2         Clint Eastwood    207\n",
      "3             Clive Owen    194\n",
      "4         Dolph Lundgren    239\n"
     ]
    }
   ],
   "source": [
    "data = pd.read_csv(file_path) #Reads the dataset\n",
    "print(data.head()) #Displays the Dataset"
   ]
  },
  {
   "cell_type": "code",
   "execution_count": 331,
   "id": "2bceb202-bb3f-4618-99fe-e617e97854fd",
   "metadata": {},
   "outputs": [
    {
     "data": {
      "text/plain": [
       "<Figure size 1000x800 with 0 Axes>"
      ]
     },
     "metadata": {},
     "output_type": "display_data"
    },
    {
     "data": {
      "text/plain": [
       "<Figure size 1000x800 with 0 Axes>"
      ]
     },
     "metadata": {},
     "output_type": "display_data"
    },
    {
     "data": {
      "image/png": "[encoded data removed]",
      "text/plain": [
       "<Figure size 1000x800 with 1 Axes>"
      ]
     },
     "metadata": {},
     "output_type": "display_data"
    }
   ],
   "source": [
    "#Plots the horizontal bar chart\n",
    "\n",
    "plt.figure(figsize=(10, 8))  # Sets the figure size\n",
    "\n",
    "plt.barh(data['Actor'], data['Count'], color='red')  # Create a horizontal bar chart\n",
    "\n",
    "#Adds chart labels and title\n",
    "plt.xlabel('Count', fontsize=15)  # X-axis label\n",
    "\n",
    "plt.ylabel('Actor', fontsize=15)  # Y-axis label\n",
    "\n",
    "plt.title('Hollywood\\'s Deadliest Actors', fontsize=16)  # Chart title\n",
    "\n",
    "#Annotates each bar with kill count\n",
    "for index, value in enumerate(data['Count']):\n",
    "    plt.text(value, index, str(value), va='center', ha='right', fontsize=19, color='white')\n",
    "\n",
    "#Adjust layout and display the chart\n",
    "plt.tight_layout()  # Adjust layout to fit elements\n",
    "\n",
    "plt.gca().invert_yaxis()  # Invert y-axis to display the actor with the highest kill count on top\n",
    "\n",
    "plt.show() #Display the chart"
   ]
  },
  {
   "cell_type": "code",
   "execution_count": null,
   "id": "2e7765a7-328c-4fec-8509-faf5cf95b1a9",
   "metadata": {},
   "outputs": [],
   "source": []
  },
  {
   "cell_type": "code",
   "execution_count": null,
   "id": "d957c8ad-d1ec-4535-94ea-7c50822ec63a",
   "metadata": {},
   "outputs": [],
   "source": []
  },
  {
   "cell_type": "code",
   "execution_count": null,
   "id": "cd13458b-845b-4981-9d19-bf39e091d937",
   "metadata": {},
   "outputs": [],
   "source": []
  },
  {
   "cell_type": "markdown",
   "id": "cb9a3560-7b12-4c2c-b09b-a552675fa847",
   "metadata": {},
   "source": [
    "Q9. Create a pie chart showing the fraction of all Roman Emperors that were\n",
    "assassinated.\n",
    "Make sure that the pie chart is an even circle, labels the categories, and shows the\n",
    "percentage breakdown of the categories"
   ]
  },
  {
   "cell_type": "code",
   "execution_count": 333,
   "id": "5d61389c-b846-49f8-a645-d15f65745167",
   "metadata": {},
   "outputs": [],
   "source": [
    "file_path = 'C:/Users/200608816/Desktop/a/'"
   ]
  },
  {
   "cell_type": "code",
   "execution_count": 335,
   "id": "54ff4f3c-ae2c-4d6e-94be-7a7bfd7ab05c",
   "metadata": {},
   "outputs": [
    {
     "name": "stdout",
     "output_type": "stream",
     "text": [
      "    Emperor  Length_of_Reign         Cause_of_Death\n",
      "0  Augustus            40.58  Possibly assassinated\n",
      "1  Tiberius            22.50  Possibly assassinated\n",
      "2  Caligula             4.83           Assassinated\n",
      "3  Claudius            13.75  Possibly assassinated\n",
      "4      Nero            13.67                Suicide\n"
     ]
    }
   ],
   "source": [
    "data = pd.read_csv(file_path) #Reads the dataset\n",
    "print(data.head()) #Displays the results"
   ]
  },
  {
   "cell_type": "code",
   "execution_count": 337,
   "id": "279fdee2-818b-4816-a3a1-8a918d505ea0",
   "metadata": {},
   "outputs": [],
   "source": [
    "death_counts = data['Cause_of_Death'].value_counts()\n",
    "assassinated_count = death_counts.get('Assassinated', 0) #Extract the number of assassinated emperors\n",
    "total_emperors = data.shape[0] #Calculate the total emperors\n",
    "# Calculate the fraction for each category\n",
    "other_count = total_emperors - assassinated_count\n",
    "fractions = [assassinated_count, other_count]\n",
    "labels = ['Assassinated', 'Other Causes']"
   ]
  },
  {
   "cell_type": "code",
   "execution_count": 339,
   "id": "efbd6fb9-f2ed-4830-8db0-72ac6bf53480",
   "metadata": {},
   "outputs": [
    {
     "data": {
      "image/png": "[encoded data removed]",
      "text/plain": [
       "<Figure size 800x800 with 1 Axes>"
      ]
     },
     "metadata": {},
     "output_type": "display_data"
    }
   ],
   "source": [
    "# Create the pie chart\n",
    "plt.figure(figsize=(8, 8))\n",
    "plt.pie(\n",
    "    fractions,\n",
    "    labels=labels,\n",
    "    autopct='%1.1f%%',\n",
    "    startangle=90,\n",
    "    colors=['red', 'gray'],\n",
    "    wedgeprops={'edgecolor': 'black'}\n",
    ")\n",
    "\n",
    "# Sets aspect ratio to be equal so the pie chart is circular\n",
    "plt.title('Fraction of Roman Emperors Assassinated', fontsize=14)\n",
    "plt.axis('equal')  # Equal aspect ratio ensures a perfect circle\n",
    "plt.tight_layout()\n",
    "\n",
    "# Displays the plot\n",
    "plt.show()"
   ]
  },
  {
   "cell_type": "code",
   "execution_count": null,
   "id": "ec9a09da-94f8-4fe0-b5a2-8ef09b13d565",
   "metadata": {},
   "outputs": [],
   "source": []
  },
  {
   "cell_type": "code",
   "execution_count": null,
   "id": "6c833721-61f6-413f-883c-e20f5009103b",
   "metadata": {},
   "outputs": [],
   "source": []
  },
  {
   "cell_type": "code",
   "execution_count": null,
   "id": "eb54b024-461f-4625-8cf1-dd8e42a6aa6e",
   "metadata": {},
   "outputs": [],
   "source": []
  },
  {
   "cell_type": "markdown",
   "id": "bb2d75cd-9ad1-4784-99eb-06034a062781",
   "metadata": {},
   "source": [
    "Q10. Create a scatter plot showing the relationship between the total revenue earned by\n",
    "arcades and the number of Computer Science PhDs awarded in the U.S. between\n",
    "2000 and 2009.\n",
    "Don't forget to label your axes!\n",
    "Color each dot according to its year."
   ]
  },
  {
   "cell_type": "code",
   "execution_count": 341,
   "id": "2fca12af-fb86-4fbb-95df-3897eb63a383",
   "metadata": {},
   "outputs": [
    {
     "name": "stdout",
     "output_type": "stream",
     "text": [
      "   Year  Total Arcade Revenue (billions)  \\\n",
      "0  2000                            1.196   \n",
      "1  2001                            1.176   \n",
      "2  2002                            1.269   \n",
      "3  2003                            1.240   \n",
      "4  2004                            1.307   \n",
      "\n",
      "   Computer Science Doctorates Awarded (US)  \n",
      "0                                       861  \n",
      "1                                       830  \n",
      "2                                       809  \n",
      "3                                       867  \n",
      "4                                       948  \n"
     ]
    }
   ],
   "source": [
    "file_path = 'C:/Users/200608816/Desktop/a/arcade-revenue-vs-cs-doctorates.csv'\n",
    "data = pd.read_csv(file_path) #Reads the dataset\n",
    "print(data.head()) #Displays the result"
   ]
  },
  {
   "cell_type": "code",
   "execution_count": 343,
   "id": "cfaa7be5-c005-4b21-b472-ae4b550def80",
   "metadata": {},
   "outputs": [
    {
     "name": "stdout",
     "output_type": "stream",
     "text": [
      "Index(['Year', 'Total Arcade Revenue (billions)',\n",
      "       'Computer Science Doctorates Awarded (US)'],\n",
      "      dtype='object')\n"
     ]
    }
   ],
   "source": [
    "print(data.columns)"
   ]
  },
  {
   "cell_type": "code",
   "execution_count": 345,
   "id": "64e527b4-dd85-4c54-97b3-e04a1359bc9d",
   "metadata": {},
   "outputs": [
    {
     "data": {
      "image/png": "[encoded data removed]",
      "text/plain": [
       "<Figure size 1000x600 with 2 Axes>"
      ]
     },
     "metadata": {},
     "output_type": "display_data"
    }
   ],
   "source": [
    "#Creating a scatter plot\n",
    "plt.figure(figsize=(10, 6))\n",
    "\n",
    "#Scatter plot with color based on 'Year'\n",
    "\n",
    "scatter = plt.scatter(\n",
    "    data['Total Arcade Revenue (billions)'],\n",
    "    data['Computer Science Doctorates Awarded (US)'],\n",
    "    c=data['Year'], cmap='viridis', s=100, alpha=0.8\n",
    ")\n",
    "\n",
    "#Label the axes and add a title\n",
    "\n",
    "plt.xlabel('Total Arcade Revenue (billions)', fontsize=16)\n",
    "plt.ylabel('Computer Science Doctorates Awarded (US)', fontsize=16)\n",
    "plt.title('Arcade Revenue vs. Computer Science Doctorates Awarded (2000-2009)', fontsize=17)\n",
    "\n",
    "# Add a color bar to indicate years\n",
    "colorbar = plt.colorbar(scatter)\n",
    "colorbar.set_label('Year', fontsize=14)\n",
    "\n",
    "# displays the plot\n",
    "\n",
    "plt.tight_layout()\n",
    "plt.show()"
   ]
  },
  {
   "cell_type": "code",
   "execution_count": null,
   "id": "2f1dcc2a-267b-4508-9a50-5181f9469b1a",
   "metadata": {},
   "outputs": [],
   "source": []
  }
 ],
 "metadata": {
  "kernelspec": {
   "display_name": "Python 3 (ipykernel)",
   "language": "python",
   "name": "python3"
  },
  "language_info": {
   "codemirror_mode": {
    "name": "ipython",
    "version": 3
   },
   "file_extension": ".py",
   "mimetype": "text/x-python",
   "name": "python",
   "nbconvert_exporter": "python",
   "pygments_lexer": "ipython3",
   "version": "3.12.7"
  }
 },
 "nbformat": 4,
 "nbformat_minor": 5
}
